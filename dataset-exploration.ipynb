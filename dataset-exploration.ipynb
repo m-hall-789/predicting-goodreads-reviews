{
 "cells": [
  {
   "cell_type": "markdown",
   "id": "d8894695",
   "metadata": {},
   "source": [
    "# Goodreads Reviews Dataset Exploration"
   ]
  },
  {
   "cell_type": "markdown",
   "id": "b290fec0",
   "metadata": {},
   "source": [
    "## Imports"
   ]
  },
  {
   "cell_type": "code",
   "execution_count": 1,
   "id": "e7e99ce6",
   "metadata": {},
   "outputs": [],
   "source": [
    "%load_ext autoreload\n",
    "%autoreload 2"
   ]
  },
  {
   "cell_type": "code",
   "execution_count": 2,
   "id": "ee075172",
   "metadata": {},
   "outputs": [],
   "source": [
    "import numpy\n",
    "import pandas as pd\n",
    "import matplotlib.pyplot as plt"
   ]
  },
  {
   "cell_type": "code",
   "execution_count": 3,
   "id": "1a4a05d1",
   "metadata": {},
   "outputs": [],
   "source": [
    "goodreads_df = pd.read_csv('goodreads-reviews-full-dataset.csv')"
   ]
  },
  {
   "cell_type": "markdown",
   "id": "98914ff9",
   "metadata": {
    "heading_collapsed": true
   },
   "source": [
    "## EDA on the dataset"
   ]
  },
  {
   "cell_type": "code",
   "execution_count": 5,
   "id": "2903d47d",
   "metadata": {
    "hidden": true
   },
   "outputs": [
    {
     "data": {
      "text/html": [
       "<div>\n",
       "<style scoped>\n",
       "    .dataframe tbody tr th:only-of-type {\n",
       "        vertical-align: middle;\n",
       "    }\n",
       "\n",
       "    .dataframe tbody tr th {\n",
       "        vertical-align: top;\n",
       "    }\n",
       "\n",
       "    .dataframe thead th {\n",
       "        text-align: right;\n",
       "    }\n",
       "</style>\n",
       "<table border=\"1\" class=\"dataframe\">\n",
       "  <thead>\n",
       "    <tr style=\"text-align: right;\">\n",
       "      <th></th>\n",
       "      <th>review score</th>\n",
       "      <th>review text</th>\n",
       "    </tr>\n",
       "  </thead>\n",
       "  <tbody>\n",
       "    <tr>\n",
       "      <th>0</th>\n",
       "      <td>4</td>\n",
       "      <td>Suzanne Collins has balls ovaries of steel to ...</td>\n",
       "    </tr>\n",
       "    <tr>\n",
       "      <th>1</th>\n",
       "      <td>5</td>\n",
       "      <td>Dystopian Perfection.\\n\\nIn a post-apocalyptic...</td>\n",
       "    </tr>\n",
       "    <tr>\n",
       "      <th>2</th>\n",
       "      <td>4</td>\n",
       "      <td>Latest is up - a serious take on writing Young...</td>\n",
       "    </tr>\n",
       "    <tr>\n",
       "      <th>3</th>\n",
       "      <td>5</td>\n",
       "      <td>I was forced into watching Mockingjay: Part II...</td>\n",
       "    </tr>\n",
       "    <tr>\n",
       "      <th>4</th>\n",
       "      <td>5</td>\n",
       "      <td>My \"Epic Book Recipe\" Checklist for The Hunger...</td>\n",
       "    </tr>\n",
       "  </tbody>\n",
       "</table>\n",
       "</div>"
      ],
      "text/plain": [
       "   review score                                        review text\n",
       "0             4  Suzanne Collins has balls ovaries of steel to ...\n",
       "1             5  Dystopian Perfection.\\n\\nIn a post-apocalyptic...\n",
       "2             4  Latest is up - a serious take on writing Young...\n",
       "3             5  I was forced into watching Mockingjay: Part II...\n",
       "4             5  My \"Epic Book Recipe\" Checklist for The Hunger..."
      ]
     },
     "execution_count": 5,
     "metadata": {},
     "output_type": "execute_result"
    }
   ],
   "source": [
    "goodreads_df.head()"
   ]
  },
  {
   "cell_type": "code",
   "execution_count": 6,
   "id": "7b7931ef",
   "metadata": {
    "hidden": true
   },
   "outputs": [
    {
     "name": "stdout",
     "output_type": "stream",
     "text": [
      "<class 'pandas.core.frame.DataFrame'>\n",
      "RangeIndex: 11683 entries, 0 to 11682\n",
      "Data columns (total 2 columns):\n",
      " #   Column        Non-Null Count  Dtype \n",
      "---  ------        --------------  ----- \n",
      " 0   review score  11683 non-null  int64 \n",
      " 1   review text   11683 non-null  object\n",
      "dtypes: int64(1), object(1)\n",
      "memory usage: 182.7+ KB\n"
     ]
    }
   ],
   "source": [
    "goodreads_df.info()"
   ]
  },
  {
   "cell_type": "code",
   "execution_count": 7,
   "id": "28da0fda",
   "metadata": {
    "hidden": true
   },
   "outputs": [
    {
     "data": {
      "text/html": [
       "<div>\n",
       "<style scoped>\n",
       "    .dataframe tbody tr th:only-of-type {\n",
       "        vertical-align: middle;\n",
       "    }\n",
       "\n",
       "    .dataframe tbody tr th {\n",
       "        vertical-align: top;\n",
       "    }\n",
       "\n",
       "    .dataframe thead th {\n",
       "        text-align: right;\n",
       "    }\n",
       "</style>\n",
       "<table border=\"1\" class=\"dataframe\">\n",
       "  <thead>\n",
       "    <tr style=\"text-align: right;\">\n",
       "      <th></th>\n",
       "      <th>review score</th>\n",
       "    </tr>\n",
       "  </thead>\n",
       "  <tbody>\n",
       "    <tr>\n",
       "      <th>count</th>\n",
       "      <td>11683.000000</td>\n",
       "    </tr>\n",
       "    <tr>\n",
       "      <th>mean</th>\n",
       "      <td>3.985021</td>\n",
       "    </tr>\n",
       "    <tr>\n",
       "      <th>std</th>\n",
       "      <td>1.267385</td>\n",
       "    </tr>\n",
       "    <tr>\n",
       "      <th>min</th>\n",
       "      <td>1.000000</td>\n",
       "    </tr>\n",
       "    <tr>\n",
       "      <th>25%</th>\n",
       "      <td>3.000000</td>\n",
       "    </tr>\n",
       "    <tr>\n",
       "      <th>50%</th>\n",
       "      <td>4.000000</td>\n",
       "    </tr>\n",
       "    <tr>\n",
       "      <th>75%</th>\n",
       "      <td>5.000000</td>\n",
       "    </tr>\n",
       "    <tr>\n",
       "      <th>max</th>\n",
       "      <td>5.000000</td>\n",
       "    </tr>\n",
       "  </tbody>\n",
       "</table>\n",
       "</div>"
      ],
      "text/plain": [
       "       review score\n",
       "count  11683.000000\n",
       "mean       3.985021\n",
       "std        1.267385\n",
       "min        1.000000\n",
       "25%        3.000000\n",
       "50%        4.000000\n",
       "75%        5.000000\n",
       "max        5.000000"
      ]
     },
     "execution_count": 7,
     "metadata": {},
     "output_type": "execute_result"
    }
   ],
   "source": [
    "goodreads_df.describe()"
   ]
  },
  {
   "cell_type": "code",
   "execution_count": 8,
   "id": "355df0d9",
   "metadata": {
    "hidden": true
   },
   "outputs": [
    {
     "data": {
      "text/plain": [
       "(11683, 2)"
      ]
     },
     "execution_count": 8,
     "metadata": {},
     "output_type": "execute_result"
    }
   ],
   "source": [
    "goodreads_df.shape"
   ]
  },
  {
   "cell_type": "code",
   "execution_count": 10,
   "id": "53ef1f22",
   "metadata": {
    "hidden": true
   },
   "outputs": [
    {
     "data": {
      "text/plain": [
       "review score    0\n",
       "review text     0\n",
       "dtype: int64"
      ]
     },
     "execution_count": 10,
     "metadata": {},
     "output_type": "execute_result"
    }
   ],
   "source": [
    "goodreads_df.isnull().sum()"
   ]
  },
  {
   "cell_type": "code",
   "execution_count": 11,
   "id": "93d66695",
   "metadata": {
    "hidden": true
   },
   "outputs": [
    {
     "data": {
      "text/plain": [
       "5    5565\n",
       "4    3127\n",
       "3    1224\n",
       "1     982\n",
       "2     785\n",
       "Name: review score, dtype: int64"
      ]
     },
     "execution_count": 11,
     "metadata": {},
     "output_type": "execute_result"
    }
   ],
   "source": [
    "goodreads_df['review score'].value_counts()"
   ]
  },
  {
   "cell_type": "code",
   "execution_count": 16,
   "id": "49e73044",
   "metadata": {
    "hidden": true
   },
   "outputs": [
    {
     "data": {
      "text/plain": [
       "review score     int64\n",
       "review text     object\n",
       "dtype: object"
      ]
     },
     "execution_count": 16,
     "metadata": {},
     "output_type": "execute_result"
    }
   ],
   "source": [
    "goodreads_df.dtypes"
   ]
  },
  {
   "cell_type": "markdown",
   "id": "b8a5965e",
   "metadata": {},
   "source": [
    "## Getting review word count"
   ]
  },
  {
   "cell_type": "markdown",
   "id": "b1fd3a6d",
   "metadata": {
    "heading_collapsed": true
   },
   "source": [
    "### Using a sample dataframe to test"
   ]
  },
  {
   "cell_type": "code",
   "execution_count": 12,
   "id": "ba6e292a",
   "metadata": {
    "hidden": true
   },
   "outputs": [
    {
     "data": {
      "text/html": [
       "<div>\n",
       "<style scoped>\n",
       "    .dataframe tbody tr th:only-of-type {\n",
       "        vertical-align: middle;\n",
       "    }\n",
       "\n",
       "    .dataframe tbody tr th {\n",
       "        vertical-align: top;\n",
       "    }\n",
       "\n",
       "    .dataframe thead th {\n",
       "        text-align: right;\n",
       "    }\n",
       "</style>\n",
       "<table border=\"1\" class=\"dataframe\">\n",
       "  <thead>\n",
       "    <tr style=\"text-align: right;\">\n",
       "      <th></th>\n",
       "      <th>review score</th>\n",
       "      <th>review text</th>\n",
       "    </tr>\n",
       "  </thead>\n",
       "  <tbody>\n",
       "    <tr>\n",
       "      <th>6659</th>\n",
       "      <td>4</td>\n",
       "      <td>The Silmarillion, J.R.R. Tolkien\\n\\nThe Silmar...</td>\n",
       "    </tr>\n",
       "    <tr>\n",
       "      <th>8537</th>\n",
       "      <td>5</td>\n",
       "      <td>Who said Stephen King only wrote horror? \"Diff...</td>\n",
       "    </tr>\n",
       "    <tr>\n",
       "      <th>6114</th>\n",
       "      <td>5</td>\n",
       "      <td>This is one of my favorite books of all time!!...</td>\n",
       "    </tr>\n",
       "    <tr>\n",
       "      <th>9888</th>\n",
       "      <td>4</td>\n",
       "      <td>Much more readable and fun then I imagined!\\n“...</td>\n",
       "    </tr>\n",
       "    <tr>\n",
       "      <th>585</th>\n",
       "      <td>3</td>\n",
       "      <td>Randomness GALORE...! ...&amp; yet, ISN'T THAT the...</td>\n",
       "    </tr>\n",
       "  </tbody>\n",
       "</table>\n",
       "</div>"
      ],
      "text/plain": [
       "      review score                                        review text\n",
       "6659             4  The Silmarillion, J.R.R. Tolkien\\n\\nThe Silmar...\n",
       "8537             5  Who said Stephen King only wrote horror? \"Diff...\n",
       "6114             5  This is one of my favorite books of all time!!...\n",
       "9888             4  Much more readable and fun then I imagined!\\n“...\n",
       "585              3  Randomness GALORE...! ...& yet, ISN'T THAT the..."
      ]
     },
     "execution_count": 12,
     "metadata": {},
     "output_type": "execute_result"
    }
   ],
   "source": [
    "sample_df = goodreads_df.sample(50)\n",
    "sample_df.head()"
   ]
  },
  {
   "cell_type": "code",
   "execution_count": 17,
   "id": "4e4be672",
   "metadata": {
    "hidden": true
   },
   "outputs": [],
   "source": [
    "sample_df['review_word_count'] = sample_df['review text'].str.split().apply(len)"
   ]
  },
  {
   "cell_type": "code",
   "execution_count": 18,
   "id": "4ca16c85",
   "metadata": {
    "hidden": true
   },
   "outputs": [
    {
     "data": {
      "text/html": [
       "<div>\n",
       "<style scoped>\n",
       "    .dataframe tbody tr th:only-of-type {\n",
       "        vertical-align: middle;\n",
       "    }\n",
       "\n",
       "    .dataframe tbody tr th {\n",
       "        vertical-align: top;\n",
       "    }\n",
       "\n",
       "    .dataframe thead th {\n",
       "        text-align: right;\n",
       "    }\n",
       "</style>\n",
       "<table border=\"1\" class=\"dataframe\">\n",
       "  <thead>\n",
       "    <tr style=\"text-align: right;\">\n",
       "      <th></th>\n",
       "      <th>review score</th>\n",
       "      <th>review text</th>\n",
       "      <th>review_word_count</th>\n",
       "    </tr>\n",
       "  </thead>\n",
       "  <tbody>\n",
       "    <tr>\n",
       "      <th>6659</th>\n",
       "      <td>4</td>\n",
       "      <td>The Silmarillion, J.R.R. Tolkien\\n\\nThe Silmar...</td>\n",
       "      <td>719</td>\n",
       "    </tr>\n",
       "    <tr>\n",
       "      <th>8537</th>\n",
       "      <td>5</td>\n",
       "      <td>Who said Stephen King only wrote horror? \"Diff...</td>\n",
       "      <td>747</td>\n",
       "    </tr>\n",
       "    <tr>\n",
       "      <th>6114</th>\n",
       "      <td>5</td>\n",
       "      <td>This is one of my favorite books of all time!!...</td>\n",
       "      <td>352</td>\n",
       "    </tr>\n",
       "    <tr>\n",
       "      <th>9888</th>\n",
       "      <td>4</td>\n",
       "      <td>Much more readable and fun then I imagined!\\n“...</td>\n",
       "      <td>324</td>\n",
       "    </tr>\n",
       "    <tr>\n",
       "      <th>585</th>\n",
       "      <td>3</td>\n",
       "      <td>Randomness GALORE...! ...&amp; yet, ISN'T THAT the...</td>\n",
       "      <td>136</td>\n",
       "    </tr>\n",
       "  </tbody>\n",
       "</table>\n",
       "</div>"
      ],
      "text/plain": [
       "      review score                                        review text  \\\n",
       "6659             4  The Silmarillion, J.R.R. Tolkien\\n\\nThe Silmar...   \n",
       "8537             5  Who said Stephen King only wrote horror? \"Diff...   \n",
       "6114             5  This is one of my favorite books of all time!!...   \n",
       "9888             4  Much more readable and fun then I imagined!\\n“...   \n",
       "585              3  Randomness GALORE...! ...& yet, ISN'T THAT the...   \n",
       "\n",
       "      review_word_count  \n",
       "6659                719  \n",
       "8537                747  \n",
       "6114                352  \n",
       "9888                324  \n",
       "585                 136  "
      ]
     },
     "execution_count": 18,
     "metadata": {},
     "output_type": "execute_result"
    }
   ],
   "source": [
    "sample_df.head()"
   ]
  },
  {
   "cell_type": "code",
   "execution_count": 20,
   "id": "b61db6c8",
   "metadata": {
    "hidden": true
   },
   "outputs": [
    {
     "data": {
      "text/plain": [
       "<AxesSubplot:>"
      ]
     },
     "execution_count": 20,
     "metadata": {},
     "output_type": "execute_result"
    },
    {
     "data": {
      "image/png": "[encoded data removed]",
      "text/plain": [
       "<Figure size 640x480 with 1 Axes>"
      ]
     },
     "metadata": {},
     "output_type": "display_data"
    }
   ],
   "source": [
    "sample_df['review_word_count'].hist()"
   ]
  },
  {
   "cell_type": "markdown",
   "id": "501188f0",
   "metadata": {
    "heading_collapsed": true
   },
   "source": [
    "### Now doing the same on the full df"
   ]
  },
  {
   "cell_type": "code",
   "execution_count": 21,
   "id": "a30e6701",
   "metadata": {
    "hidden": true
   },
   "outputs": [],
   "source": [
    "goodreads_df['review_word_count'] = goodreads_df['review text'].str.split().apply(len)"
   ]
  },
  {
   "cell_type": "code",
   "execution_count": 23,
   "id": "14f69c6f",
   "metadata": {
    "hidden": true
   },
   "outputs": [
    {
     "data": {
      "text/plain": [
       "<AxesSubplot:>"
      ]
     },
     "execution_count": 23,
     "metadata": {},
     "output_type": "execute_result"
    },
    {
     "data": {
      "image/png": "[encoded data removed]",
      "text/plain": [
       "<Figure size 640x480 with 1 Axes>"
      ]
     },
     "metadata": {},
     "output_type": "display_data"
    }
   ],
   "source": [
    "goodreads_df['review_word_count'].hist(bins=20)"
   ]
  },
  {
   "cell_type": "code",
   "execution_count": 24,
   "id": "213a9295",
   "metadata": {
    "hidden": true
   },
   "outputs": [
    {
     "data": {
      "text/html": [
       "<div>\n",
       "<style scoped>\n",
       "    .dataframe tbody tr th:only-of-type {\n",
       "        vertical-align: middle;\n",
       "    }\n",
       "\n",
       "    .dataframe tbody tr th {\n",
       "        vertical-align: top;\n",
       "    }\n",
       "\n",
       "    .dataframe thead th {\n",
       "        text-align: right;\n",
       "    }\n",
       "</style>\n",
       "<table border=\"1\" class=\"dataframe\">\n",
       "  <thead>\n",
       "    <tr style=\"text-align: right;\">\n",
       "      <th></th>\n",
       "      <th>review score</th>\n",
       "      <th>review_word_count</th>\n",
       "    </tr>\n",
       "  </thead>\n",
       "  <tbody>\n",
       "    <tr>\n",
       "      <th>count</th>\n",
       "      <td>11683.000000</td>\n",
       "      <td>11683.000000</td>\n",
       "    </tr>\n",
       "    <tr>\n",
       "      <th>mean</th>\n",
       "      <td>3.985021</td>\n",
       "      <td>389.486005</td>\n",
       "    </tr>\n",
       "    <tr>\n",
       "      <th>std</th>\n",
       "      <td>1.267385</td>\n",
       "      <td>399.870747</td>\n",
       "    </tr>\n",
       "    <tr>\n",
       "      <th>min</th>\n",
       "      <td>1.000000</td>\n",
       "      <td>0.000000</td>\n",
       "    </tr>\n",
       "    <tr>\n",
       "      <th>25%</th>\n",
       "      <td>3.000000</td>\n",
       "      <td>114.000000</td>\n",
       "    </tr>\n",
       "    <tr>\n",
       "      <th>50%</th>\n",
       "      <td>4.000000</td>\n",
       "      <td>283.000000</td>\n",
       "    </tr>\n",
       "    <tr>\n",
       "      <th>75%</th>\n",
       "      <td>5.000000</td>\n",
       "      <td>528.000000</td>\n",
       "    </tr>\n",
       "    <tr>\n",
       "      <th>max</th>\n",
       "      <td>5.000000</td>\n",
       "      <td>3534.000000</td>\n",
       "    </tr>\n",
       "  </tbody>\n",
       "</table>\n",
       "</div>"
      ],
      "text/plain": [
       "       review score  review_word_count\n",
       "count  11683.000000       11683.000000\n",
       "mean       3.985021         389.486005\n",
       "std        1.267385         399.870747\n",
       "min        1.000000           0.000000\n",
       "25%        3.000000         114.000000\n",
       "50%        4.000000         283.000000\n",
       "75%        5.000000         528.000000\n",
       "max        5.000000        3534.000000"
      ]
     },
     "execution_count": 24,
     "metadata": {},
     "output_type": "execute_result"
    }
   ],
   "source": [
    "goodreads_df.describe()"
   ]
  },
  {
   "cell_type": "markdown",
   "id": "41b5dc8d",
   "metadata": {
    "hidden": true
   },
   "source": [
    "This shows that there are some outliers in terms of review size, but the majority of reviews are under 500 words. Therefore, will be trimming the review length to around 500 words and padding up to there as a starting point, and potentially trimming it further if it would speed up the process. I think I will keep the last 500 word of longer reviews, as they are more likely to be representative of the associated review score from the conclusion."
   ]
  },
  {
   "cell_type": "code",
   "execution_count": 26,
   "id": "1ece90ae",
   "metadata": {
    "hidden": true
   },
   "outputs": [
    {
     "data": {
      "text/plain": [
       "review score         1\n",
       "review text          1\n",
       "review_word_count    1\n",
       "dtype: int64"
      ]
     },
     "execution_count": 26,
     "metadata": {},
     "output_type": "execute_result"
    }
   ],
   "source": [
    "goodreads_df[goodreads_df['review_word_count'] == float(0)].count()"
   ]
  },
  {
   "cell_type": "markdown",
   "id": "271b55e1",
   "metadata": {},
   "source": [
    "# Model training"
   ]
  },
  {
   "cell_type": "markdown",
   "id": "c1013e74",
   "metadata": {},
   "source": [
    "### Imports"
   ]
  },
  {
   "cell_type": "code",
   "execution_count": 4,
   "id": "4b06d170",
   "metadata": {},
   "outputs": [
    {
     "name": "stderr",
     "output_type": "stream",
     "text": [
      "2023-07-23 17:42:18.720411: E tensorflow/stream_executor/cuda/cuda_blas.cc:2981] Unable to register cuBLAS factory: Attempting to register factory for plugin cuBLAS when one has already been registered\n"
     ]
    }
   ],
   "source": [
    "from sklearn.model_selection import train_test_split\n",
    "from tensorflow.keras.preprocessing.text import text_to_word_sequence\n",
    "from tensorflow.keras.preprocessing.text import Tokenizer\n",
    "from tensorflow.keras.preprocessing.sequence import pad_sequences\n",
    "\n",
    "from tensorflow.keras import Sequential, layers\n",
    "from tensorflow.keras.callbacks import EarlyStopping\n",
    "\n",
    "import unicodedata"
   ]
  },
  {
   "cell_type": "markdown",
   "id": "270eab15",
   "metadata": {},
   "source": [
    "## Testing text preprocessing on sample df"
   ]
  },
  {
   "cell_type": "markdown",
   "id": "670f9371",
   "metadata": {
    "heading_collapsed": true
   },
   "source": [
    "### Making the reviews into text sequences"
   ]
  },
  {
   "cell_type": "code",
   "execution_count": 28,
   "id": "4433c3ac",
   "metadata": {
    "hidden": true
   },
   "outputs": [],
   "source": [
    "X = sample_df['review text']\n",
    "y = sample_df['review score']"
   ]
  },
  {
   "cell_type": "code",
   "execution_count": null,
   "id": "688ae1f0",
   "metadata": {
    "hidden": true
   },
   "outputs": [],
   "source": [
    "# X_train, X_test, y_train, y_test = \\\n",
    "#     train_test_split(X, y, test_size=0.20, random_state=1)"
   ]
  },
  {
   "cell_type": "code",
   "execution_count": 34,
   "id": "342b554e",
   "metadata": {
    "hidden": true,
    "scrolled": true
   },
   "outputs": [
    {
     "data": {
      "text/plain": [
       "6659    The Silmarillion, J.R.R. Tolkien\\n\\nThe Silmar...\n",
       "8537    Who said Stephen King only wrote horror? \"Diff...\n",
       "6114    This is one of my favorite books of all time!!...\n",
       "9888    Much more readable and fun then I imagined!\\n“...\n",
       "585     Randomness GALORE...! ...& yet, ISN'T THAT the...\n",
       "Name: review text, dtype: object"
      ]
     },
     "execution_count": 34,
     "metadata": {},
     "output_type": "execute_result"
    }
   ],
   "source": [
    "X.head()"
   ]
  },
  {
   "cell_type": "code",
   "execution_count": 33,
   "id": "28166246",
   "metadata": {
    "hidden": true
   },
   "outputs": [],
   "source": [
    "X_sequences = [text_to_word_sequence(_) for _ in X]"
   ]
  },
  {
   "cell_type": "code",
   "execution_count": 35,
   "id": "b15946a6",
   "metadata": {
    "collapsed": true,
    "hidden": true
   },
   "outputs": [
    {
     "data": {
      "text/plain": [
       "['the',\n",
       " 'silmarillion',\n",
       " 'j',\n",
       " 'r',\n",
       " 'r',\n",
       " 'tolkien',\n",
       " 'the',\n",
       " 'silmarillion',\n",
       " 'is',\n",
       " 'a',\n",
       " 'collection',\n",
       " 'of',\n",
       " 'mythopoeic',\n",
       " 'works',\n",
       " 'by',\n",
       " 'english',\n",
       " 'writer',\n",
       " 'j',\n",
       " 'r',\n",
       " 'r',\n",
       " 'tolkien',\n",
       " 'edited',\n",
       " 'and',\n",
       " 'published',\n",
       " 'posthumously',\n",
       " 'by',\n",
       " 'his',\n",
       " 'son',\n",
       " 'christopher',\n",
       " 'tolkien',\n",
       " 'in',\n",
       " '1977',\n",
       " 'with',\n",
       " 'assistance',\n",
       " 'from',\n",
       " 'guy',\n",
       " 'gavriel',\n",
       " 'kay',\n",
       " 'the',\n",
       " 'silmarillion',\n",
       " 'along',\n",
       " 'with',\n",
       " 'j',\n",
       " 'r',\n",
       " 'r',\n",
       " \"tolkien's\",\n",
       " 'other',\n",
       " 'works',\n",
       " 'forms',\n",
       " 'an',\n",
       " 'extensive',\n",
       " 'though',\n",
       " 'incomplete',\n",
       " 'narrative',\n",
       " 'that',\n",
       " 'describes',\n",
       " 'the',\n",
       " 'universe',\n",
       " 'of',\n",
       " 'eä',\n",
       " 'in',\n",
       " 'which',\n",
       " 'are',\n",
       " 'found',\n",
       " 'the',\n",
       " 'lands',\n",
       " 'of',\n",
       " 'valinor',\n",
       " 'beleriand',\n",
       " 'númenor',\n",
       " 'and',\n",
       " 'middle',\n",
       " 'earth',\n",
       " 'within',\n",
       " 'which',\n",
       " 'the',\n",
       " 'hobbit',\n",
       " 'and',\n",
       " 'the',\n",
       " 'lord',\n",
       " 'of',\n",
       " 'the',\n",
       " 'rings',\n",
       " 'take',\n",
       " 'place',\n",
       " 'this',\n",
       " 'book',\n",
       " 'is',\n",
       " 'the',\n",
       " 'first',\n",
       " 'and',\n",
       " 'last',\n",
       " 'book',\n",
       " 'of',\n",
       " 'tolkien',\n",
       " 'the',\n",
       " 'story',\n",
       " 'of',\n",
       " 'the',\n",
       " 'first',\n",
       " 'period',\n",
       " 'from',\n",
       " 'the',\n",
       " 'imaginary',\n",
       " 'world',\n",
       " 'of',\n",
       " 'tolkien',\n",
       " 'the',\n",
       " 'old',\n",
       " 'drama',\n",
       " 'in',\n",
       " 'which',\n",
       " 'the',\n",
       " 'characters',\n",
       " 'of',\n",
       " 'lord',\n",
       " 'of',\n",
       " 'the',\n",
       " 'rings',\n",
       " 'can',\n",
       " 'also',\n",
       " 'find',\n",
       " 'their',\n",
       " 'roots',\n",
       " 'other',\n",
       " 'well',\n",
       " 'known',\n",
       " 'names',\n",
       " 'of',\n",
       " 'lord',\n",
       " 'of',\n",
       " 'the',\n",
       " 'rings',\n",
       " 'such',\n",
       " 'as',\n",
       " 'elrond',\n",
       " 'and',\n",
       " 'galadriel',\n",
       " 'are',\n",
       " 'also',\n",
       " 'heroes',\n",
       " 'of',\n",
       " 'part',\n",
       " 'of',\n",
       " 'a',\n",
       " 'short',\n",
       " 'story',\n",
       " 'in',\n",
       " 'this',\n",
       " 'book',\n",
       " 'تاریخ',\n",
       " 'نخستین',\n",
       " 'خوانش',\n",
       " 'روز',\n",
       " 'بیست',\n",
       " 'و',\n",
       " 'یکم',\n",
       " 'ماه',\n",
       " 'سپتامبر',\n",
       " 'سال',\n",
       " '2009',\n",
       " 'میلادی',\n",
       " 'عنوان',\n",
       " 'سیلماریلیون؛',\n",
       " 'نویسنده',\n",
       " 'جی',\n",
       " 'آر',\n",
       " 'آر',\n",
       " 'جان',\n",
       " 'رونالد',\n",
       " 'روئل',\n",
       " 'تالکین؛',\n",
       " 'ویرایش',\n",
       " 'کریستوفر',\n",
       " 'تالکین؛',\n",
       " 'مترجم',\n",
       " 'مریم',\n",
       " 'واثقی',\n",
       " 'پناه؛',\n",
       " 'تهران،',\n",
       " 'سبزان،',\n",
       " '1385؛',\n",
       " 'در',\n",
       " '455ص؛',\n",
       " 'شابک',\n",
       " '9648249407؛',\n",
       " 'مترجم',\n",
       " 'رضا',\n",
       " 'علیزاده؛',\n",
       " 'تهران،',\n",
       " 'روزنه،',\n",
       " '1386؛',\n",
       " 'در',\n",
       " '624ص،',\n",
       " 'نقشه؛',\n",
       " 'شابک',\n",
       " '9643342662؛',\n",
       " 'مترجم',\n",
       " 'حسین',\n",
       " 'ترکمن',\n",
       " 'نژاد؛',\n",
       " 'تهران،',\n",
       " 'غنچه،',\n",
       " '1393؛',\n",
       " 'در',\n",
       " 'دو',\n",
       " 'جلد،',\n",
       " 'شابک',\n",
       " 'دوره',\n",
       " '9786007721070؛',\n",
       " 'این',\n",
       " 'کتاب،',\n",
       " 'نخستین',\n",
       " 'و',\n",
       " 'آخرین',\n",
       " 'کتاب',\n",
       " '«تالکین»',\n",
       " 'بزرگوار',\n",
       " 'است،',\n",
       " 'داستان',\n",
       " 'دوران',\n",
       " 'نخست،',\n",
       " 'از',\n",
       " 'جهان',\n",
       " 'خیال',\n",
       " 'انگیز',\n",
       " '«تالکین»،',\n",
       " '«درام',\n",
       " 'کهنی»',\n",
       " 'که',\n",
       " 'شخصیتهای',\n",
       " '«ارباب',\n",
       " 'حلقه',\n",
       " 'ها»',\n",
       " 'نیز،',\n",
       " 'رگ',\n",
       " 'و',\n",
       " 'ریشه',\n",
       " 'ی',\n",
       " 'خود',\n",
       " 'را،',\n",
       " 'در',\n",
       " 'آن',\n",
       " 'میتوانند',\n",
       " 'بیابند؛',\n",
       " 'برخی',\n",
       " 'دیگر',\n",
       " 'از',\n",
       " 'نام',\n",
       " 'آشنایان',\n",
       " '«ارباب',\n",
       " 'حلقه',\n",
       " 'ها»،',\n",
       " 'همچون',\n",
       " '«الروند»',\n",
       " 'و',\n",
       " '«گالادریل»',\n",
       " 'نیز',\n",
       " 'از',\n",
       " 'قهرمانان',\n",
       " 'بخشی',\n",
       " 'از',\n",
       " 'یک',\n",
       " 'داستان',\n",
       " 'کوچکش',\n",
       " 'هستند؛',\n",
       " 'برای',\n",
       " 'فهمیدنش',\n",
       " 'شاید',\n",
       " 'کتاب',\n",
       " 'را،',\n",
       " 'بارها',\n",
       " 'خوانده',\n",
       " 'باشم؛',\n",
       " 'انگار',\n",
       " 'دیگر',\n",
       " 'پیر',\n",
       " 'شده',\n",
       " 'ام،',\n",
       " 'اما',\n",
       " 'هربار',\n",
       " 'که',\n",
       " 'خوانده',\n",
       " 'ام،',\n",
       " 'نکته',\n",
       " 'ای',\n",
       " 'بر',\n",
       " 'دانسته',\n",
       " 'های',\n",
       " 'پیشینم',\n",
       " 'از',\n",
       " 'جهان',\n",
       " 'خیالی',\n",
       " 'که',\n",
       " 'ایشان',\n",
       " 'برساخته،',\n",
       " 'افزون',\n",
       " 'گشته',\n",
       " 'است؛',\n",
       " 'دایرة',\n",
       " 'المعارف',\n",
       " 'نامهای',\n",
       " 'کتاب',\n",
       " 'نیز،',\n",
       " 'که',\n",
       " 'در',\n",
       " 'اوراق',\n",
       " 'و',\n",
       " 'بخشهای',\n",
       " 'انتهایی',\n",
       " 'از',\n",
       " 'کتاب',\n",
       " 'آرمیده،',\n",
       " 'بی',\n",
       " 'نظیر',\n",
       " 'است،',\n",
       " 'ریشه',\n",
       " 'ی',\n",
       " 'بیشتر',\n",
       " 'کلماتش',\n",
       " 'انگار',\n",
       " 'آشناست،',\n",
       " 'البته',\n",
       " 'اگر',\n",
       " 'نیک',\n",
       " 'بنگرید',\n",
       " 'کتاب',\n",
       " '«سیلماریلیون»،',\n",
       " 'داستان\\u200c',\n",
       " 'دوران',\n",
       " 'دو',\n",
       " 'درخت،',\n",
       " 'و',\n",
       " 'دوره',\n",
       " 'ی',\n",
       " 'نخست',\n",
       " 'جهان',\n",
       " '«تالکین»',\n",
       " 'است؛',\n",
       " 'داستان',\n",
       " '«ایلوواتار»',\n",
       " 'و',\n",
       " '«ملکور»،',\n",
       " 'تا',\n",
       " 'پدیدار',\n",
       " 'شدن',\n",
       " '«اِلف»ها',\n",
       " 'و',\n",
       " 'انسان\\u200cهاست',\n",
       " '؛',\n",
       " 'کتاب',\n",
       " '«سیلماریلیون»',\n",
       " 'از',\n",
       " 'داستانهای',\n",
       " 'روزگاران',\n",
       " 'پیشین،',\n",
       " 'دوره',\n",
       " 'ی',\n",
       " 'نخست،',\n",
       " 'داستان',\n",
       " '«آردا»،',\n",
       " 'و',\n",
       " 'از',\n",
       " 'دنیا',\n",
       " 'و',\n",
       " 'نیروهایی',\n",
       " 'میگوید،',\n",
       " 'که',\n",
       " 'آن',\n",
       " 'دنیا',\n",
       " 'را',\n",
       " 'ساختند',\n",
       " '؛',\n",
       " 'داستان',\n",
       " 'نبرد',\n",
       " 'خیر',\n",
       " 'و',\n",
       " 'شر،',\n",
       " 'در',\n",
       " 'سرزمین',\n",
       " 'میانه',\n",
       " 'است،',\n",
       " 'و',\n",
       " 'جنگ',\n",
       " 'با',\n",
       " 'لرد',\n",
       " 'سیاه',\n",
       " '«مورگوت»،',\n",
       " 'کسی',\n",
       " 'که',\n",
       " '«سارون»،',\n",
       " 'تنها',\n",
       " 'یکی',\n",
       " 'از',\n",
       " 'خدمتکارانش',\n",
       " 'بود',\n",
       " '؛',\n",
       " 'داستان',\n",
       " 'آمدن',\n",
       " '«الف»ها،',\n",
       " 'و',\n",
       " 'ساخته',\n",
       " 'شدن',\n",
       " 'جواهرات',\n",
       " 'مقدسشان،',\n",
       " '«سیلماریل»ها،',\n",
       " 'که',\n",
       " '«مورگوت»',\n",
       " 'آنها',\n",
       " 'را',\n",
       " 'دزدید،',\n",
       " 'و',\n",
       " 'به',\n",
       " 'دنبال',\n",
       " 'آن،',\n",
       " 'مجموعه',\n",
       " 'ای',\n",
       " 'از',\n",
       " 'تراژدیها',\n",
       " 'رخ',\n",
       " 'داد؛',\n",
       " 'که',\n",
       " '«مرگ',\n",
       " 'و',\n",
       " 'نیستی»،',\n",
       " '«خیانت»،',\n",
       " '«پیروزی»،',\n",
       " '«امید',\n",
       " 'و',\n",
       " 'یاس»،',\n",
       " 'به',\n",
       " 'همراه',\n",
       " 'داشت',\n",
       " '؛',\n",
       " 'از',\n",
       " 'تراژدی',\n",
       " 'عاشقانه',\n",
       " 'ی',\n",
       " '«برن»',\n",
       " 'و',\n",
       " '«لوتین»،',\n",
       " 'داستان',\n",
       " 'فرزندان',\n",
       " 'نفرین',\n",
       " 'شده',\n",
       " 'ی',\n",
       " '«هورین»،',\n",
       " 'خیانت',\n",
       " '«مائگلین»،',\n",
       " 'و',\n",
       " 'سقوط',\n",
       " 'شهر',\n",
       " 'صخره',\n",
       " 'های',\n",
       " 'پنهان',\n",
       " '«گوندولین»',\n",
       " 'نیز',\n",
       " 'سخن',\n",
       " 'میگوید',\n",
       " '؛',\n",
       " 'داستان',\n",
       " 'آمدن',\n",
       " 'آدمیان',\n",
       " 'را',\n",
       " 'نیز',\n",
       " 'بازمیگوید،',\n",
       " 'و',\n",
       " 'رزمهاشان',\n",
       " 'را،',\n",
       " 'و',\n",
       " 'اینکه',\n",
       " 'چگونه',\n",
       " 'سرنوشت',\n",
       " 'آدمیان،',\n",
       " 'و',\n",
       " '«الف»ها',\n",
       " 'به',\n",
       " 'هم',\n",
       " 'گره',\n",
       " 'خورد،',\n",
       " 'و',\n",
       " '«نومه',\n",
       " 'نوری»ها',\n",
       " 'را',\n",
       " 'پدیدار',\n",
       " 'کرد؛',\n",
       " 'نتیجه',\n",
       " 'ی',\n",
       " 'این',\n",
       " 'داستانها،',\n",
       " 'هم',\n",
       " 'در',\n",
       " 'لحن',\n",
       " 'و',\n",
       " 'هم',\n",
       " 'در',\n",
       " 'سبک',\n",
       " 'نگارش،',\n",
       " 'بسیار',\n",
       " 'متفاوت',\n",
       " 'از',\n",
       " '«هابیت»،',\n",
       " 'یا',\n",
       " '«ارباب',\n",
       " 'حلقه',\n",
       " 'ها»ست،',\n",
       " 'تا',\n",
       " 'جاییکه،',\n",
       " 'برخی',\n",
       " 'از',\n",
       " 'طرفداران',\n",
       " '«تالکین»',\n",
       " 'خوانش',\n",
       " 'آنرا',\n",
       " 'دشوار',\n",
       " 'مییابند،',\n",
       " 'اما',\n",
       " 'کسانی',\n",
       " 'که',\n",
       " 'به',\n",
       " 'درکی',\n",
       " 'ژرف',\n",
       " 'از',\n",
       " 'آن',\n",
       " 'دست',\n",
       " 'یابند؛',\n",
       " 'میدانند',\n",
       " 'که',\n",
       " 'ارزش',\n",
       " 'اش',\n",
       " 'بسیار',\n",
       " 'فراتر',\n",
       " 'از',\n",
       " '«ارباب',\n",
       " 'حلقه',\n",
       " 'ها»ست؛',\n",
       " 'و',\n",
       " 'بستری',\n",
       " 'ست',\n",
       " 'برای',\n",
       " 'آفرینش',\n",
       " 'آن',\n",
       " 'داستانها',\n",
       " '؛',\n",
       " 'کتاب',\n",
       " 'در',\n",
       " 'پنج',\n",
       " 'بخش',\n",
       " 'آراسته',\n",
       " 'شده',\n",
       " 'است',\n",
       " 'بخش',\n",
       " 'نخست',\n",
       " '«آینولینداله»',\n",
       " 'همان',\n",
       " '«آهنگ',\n",
       " 'آینور»',\n",
       " 'داستان',\n",
       " 'آفرینش',\n",
       " 'جهان',\n",
       " 'توسط',\n",
       " '«اِرو»؛',\n",
       " 'بخش',\n",
       " 'دوم',\n",
       " '«والاکوئنتا»',\n",
       " '«حکایت',\n",
       " 'والار»،',\n",
       " 'حکایت',\n",
       " '«والار»',\n",
       " 'و',\n",
       " '«مایار»',\n",
       " 'بنا',\n",
       " 'به',\n",
       " 'روایت',\n",
       " '«اِلدار»؛',\n",
       " 'بخش',\n",
       " 'سوم',\n",
       " 'کوئنتا',\n",
       " 'سیلماریلیون',\n",
       " '«تاریخچهٔ',\n",
       " 'سیلماریل\\u200cها»',\n",
       " 'داستان',\n",
       " 'اصلی',\n",
       " '«سیلماریلیون»',\n",
       " 'که',\n",
       " 'شامل',\n",
       " 'داستان\\u200cهای',\n",
       " 'دوران',\n",
       " 'دو',\n",
       " 'درخت',\n",
       " '«والینور»',\n",
       " 'و',\n",
       " 'دوره',\n",
       " 'اول',\n",
       " 'می\\u200cشود',\n",
       " '؛',\n",
       " 'بخش',\n",
       " 'چهارم',\n",
       " '«آکالابت»',\n",
       " '«سقوط',\n",
       " 'نومه',\n",
       " 'نور»',\n",
       " 'داستان',\n",
       " 'سقوط',\n",
       " '«نومه',\n",
       " 'نور»',\n",
       " 'و',\n",
       " 'مردمانش،',\n",
       " 'و',\n",
       " 'دوره',\n",
       " 'دوم؛',\n",
       " 'بخش',\n",
       " 'پنجم',\n",
       " 'حدیث',\n",
       " 'حلقه',\n",
       " 'های',\n",
       " 'قدرت',\n",
       " 'است،',\n",
       " 'و',\n",
       " 'دوره',\n",
       " 'سوم',\n",
       " 'که',\n",
       " 'با',\n",
       " 'پایان',\n",
       " 'آن',\n",
       " 'این',\n",
       " 'حکایت\\u200cها',\n",
       " 'نیز',\n",
       " 'به',\n",
       " 'پایان',\n",
       " 'می\\u200cرسد',\n",
       " 'داستان',\n",
       " '«سیلماریلیون»',\n",
       " '«فیانور»',\n",
       " 'بزرگترین',\n",
       " '«اِلف»',\n",
       " 'زمانه',\n",
       " 'در',\n",
       " 'هنر',\n",
       " 'و',\n",
       " 'معرفت',\n",
       " 'بود',\n",
       " '؛',\n",
       " 'همو',\n",
       " 'بود',\n",
       " 'که',\n",
       " '«سیلماریلها»',\n",
       " 'یا',\n",
       " 'همان',\n",
       " 'جواهرات',\n",
       " 'مقدس',\n",
       " 'را',\n",
       " 'ساخت',\n",
       " 'و',\n",
       " 'آنها',\n",
       " 'را',\n",
       " 'با',\n",
       " 'پرتو',\n",
       " 'دو',\n",
       " 'درخت',\n",
       " '«والینور»',\n",
       " 'آکند',\n",
       " '؛',\n",
       " 'دو',\n",
       " 'درختی',\n",
       " 'که',\n",
       " 'میوه',\n",
       " 'و',\n",
       " 'شکوفه',\n",
       " 'شان',\n",
       " 'خورشید',\n",
       " 'و',\n",
       " 'ماه',\n",
       " 'شد',\n",
       " '؛',\n",
       " 'اما',\n",
       " '«ملکور»،',\n",
       " 'نخستین',\n",
       " 'فرمانروای',\n",
       " 'تاریکی،',\n",
       " 'آنها',\n",
       " 'را',\n",
       " 'دزدید',\n",
       " 'و',\n",
       " 'به',\n",
       " 'دنبال',\n",
       " 'آن',\n",
       " 'مجموعه',\n",
       " 'ای',\n",
       " 'از',\n",
       " 'تراژدیها',\n",
       " 'رخ',\n",
       " 'داد',\n",
       " '؛',\n",
       " 'محور',\n",
       " 'اصلی',\n",
       " 'داستان',\n",
       " 'بخش',\n",
       " 'سوم',\n",
       " 'کتاب',\n",
       " '«سیلماریلیون»،',\n",
       " 'حول',\n",
       " 'سه',\n",
       " '«سیلماریل»',\n",
       " 'میگردد',\n",
       " '؛',\n",
       " 'داستان',\n",
       " '«سیلماریلیون»',\n",
       " 'گاه',\n",
       " 'به',\n",
       " 'گذشته',\n",
       " 'ی',\n",
       " 'دنیا',\n",
       " 'نیز',\n",
       " 'میرود،',\n",
       " 'به',\n",
       " 'همان',\n",
       " 'دوران',\n",
       " 'نخست',\n",
       " 'و',\n",
       " 'آن',\n",
       " 'تاریخچه',\n",
       " 'را',\n",
       " 'نیز',\n",
       " 'در',\n",
       " 'جاهایی',\n",
       " 'باز',\n",
       " 'میکند',\n",
       " '؛',\n",
       " 'تاریخ',\n",
       " 'بهنگام',\n",
       " 'رسانی',\n",
       " '01',\n",
       " '06',\n",
       " '1399هجری',\n",
       " 'خورشیدی؛',\n",
       " '13',\n",
       " '05',\n",
       " '1400هجری',\n",
       " 'خورشیدی؛',\n",
       " 'ا',\n",
       " 'شربیانی']"
      ]
     },
     "execution_count": 35,
     "metadata": {},
     "output_type": "execute_result"
    }
   ],
   "source": [
    "X_sequences[0]"
   ]
  },
  {
   "cell_type": "markdown",
   "id": "7ebda194",
   "metadata": {
    "heading_collapsed": true
   },
   "source": [
    "### Removing Non-English characters from list"
   ]
  },
  {
   "cell_type": "code",
   "execution_count": 54,
   "id": "9abdd528",
   "metadata": {
    "hidden": true
   },
   "outputs": [],
   "source": [
    "def is_english(word):\n",
    "    for character in word:\n",
    "        if character.isalpha() and unicodedata.name(character).startswith(('LATIN', 'COMMON')):\n",
    "            continue\n",
    "        else:\n",
    "            return False\n",
    "    return True\n",
    " \n",
    "def remove_non_english_words(word_sequences):\n",
    "    filtered_sequences = []\n",
    "    for word_sequence in word_sequences:\n",
    "        filtered = filter(is_english, word_sequence)  \n",
    "        filtered_sequences.append([s for s in filtered])\n",
    "#         english_str = ''.join(filtered)\n",
    "#         output.append(english_str)\n",
    "    return filtered_sequences"
   ]
  },
  {
   "cell_type": "code",
   "execution_count": 48,
   "id": "2ebeba9c",
   "metadata": {
    "hidden": true
   },
   "outputs": [],
   "source": [
    "filtered = filter(is_english, X_sequences[0])"
   ]
  },
  {
   "cell_type": "code",
   "execution_count": 49,
   "id": "e126a007",
   "metadata": {
    "hidden": true
   },
   "outputs": [],
   "source": [
    "filtered_review = [s for s in filtered]    "
   ]
  },
  {
   "cell_type": "code",
   "execution_count": 50,
   "id": "cd238053",
   "metadata": {
    "collapsed": true,
    "hidden": true
   },
   "outputs": [
    {
     "data": {
      "text/plain": [
       "['the',\n",
       " 'silmarillion',\n",
       " 'j',\n",
       " 'r',\n",
       " 'r',\n",
       " 'tolkien',\n",
       " 'the',\n",
       " 'silmarillion',\n",
       " 'is',\n",
       " 'a',\n",
       " 'collection',\n",
       " 'of',\n",
       " 'mythopoeic',\n",
       " 'works',\n",
       " 'by',\n",
       " 'english',\n",
       " 'writer',\n",
       " 'j',\n",
       " 'r',\n",
       " 'r',\n",
       " 'tolkien',\n",
       " 'edited',\n",
       " 'and',\n",
       " 'published',\n",
       " 'posthumously',\n",
       " 'by',\n",
       " 'his',\n",
       " 'son',\n",
       " 'christopher',\n",
       " 'tolkien',\n",
       " 'in',\n",
       " 'with',\n",
       " 'assistance',\n",
       " 'from',\n",
       " 'guy',\n",
       " 'gavriel',\n",
       " 'kay',\n",
       " 'the',\n",
       " 'silmarillion',\n",
       " 'along',\n",
       " 'with',\n",
       " 'j',\n",
       " 'r',\n",
       " 'r',\n",
       " 'other',\n",
       " 'works',\n",
       " 'forms',\n",
       " 'an',\n",
       " 'extensive',\n",
       " 'though',\n",
       " 'incomplete',\n",
       " 'narrative',\n",
       " 'that',\n",
       " 'describes',\n",
       " 'the',\n",
       " 'universe',\n",
       " 'of',\n",
       " 'eä',\n",
       " 'in',\n",
       " 'which',\n",
       " 'are',\n",
       " 'found',\n",
       " 'the',\n",
       " 'lands',\n",
       " 'of',\n",
       " 'valinor',\n",
       " 'beleriand',\n",
       " 'númenor',\n",
       " 'and',\n",
       " 'middle',\n",
       " 'earth',\n",
       " 'within',\n",
       " 'which',\n",
       " 'the',\n",
       " 'hobbit',\n",
       " 'and',\n",
       " 'the',\n",
       " 'lord',\n",
       " 'of',\n",
       " 'the',\n",
       " 'rings',\n",
       " 'take',\n",
       " 'place',\n",
       " 'this',\n",
       " 'book',\n",
       " 'is',\n",
       " 'the',\n",
       " 'first',\n",
       " 'and',\n",
       " 'last',\n",
       " 'book',\n",
       " 'of',\n",
       " 'tolkien',\n",
       " 'the',\n",
       " 'story',\n",
       " 'of',\n",
       " 'the',\n",
       " 'first',\n",
       " 'period',\n",
       " 'from',\n",
       " 'the',\n",
       " 'imaginary',\n",
       " 'world',\n",
       " 'of',\n",
       " 'tolkien',\n",
       " 'the',\n",
       " 'old',\n",
       " 'drama',\n",
       " 'in',\n",
       " 'which',\n",
       " 'the',\n",
       " 'characters',\n",
       " 'of',\n",
       " 'lord',\n",
       " 'of',\n",
       " 'the',\n",
       " 'rings',\n",
       " 'can',\n",
       " 'also',\n",
       " 'find',\n",
       " 'their',\n",
       " 'roots',\n",
       " 'other',\n",
       " 'well',\n",
       " 'known',\n",
       " 'names',\n",
       " 'of',\n",
       " 'lord',\n",
       " 'of',\n",
       " 'the',\n",
       " 'rings',\n",
       " 'such',\n",
       " 'as',\n",
       " 'elrond',\n",
       " 'and',\n",
       " 'galadriel',\n",
       " 'are',\n",
       " 'also',\n",
       " 'heroes',\n",
       " 'of',\n",
       " 'part',\n",
       " 'of',\n",
       " 'a',\n",
       " 'short',\n",
       " 'story',\n",
       " 'in',\n",
       " 'this',\n",
       " 'book']"
      ]
     },
     "execution_count": 50,
     "metadata": {},
     "output_type": "execute_result"
    }
   ],
   "source": [
    "filtered_review"
   ]
  },
  {
   "cell_type": "code",
   "execution_count": 53,
   "id": "ad403cef",
   "metadata": {
    "hidden": true,
    "scrolled": true
   },
   "outputs": [
    {
     "name": "stdout",
     "output_type": "stream",
     "text": [
      "742\n",
      "148\n"
     ]
    }
   ],
   "source": [
    "print(len(X_sequences[0]), len(filtered_review), sep='\\n')"
   ]
  },
  {
   "cell_type": "code",
   "execution_count": 74,
   "id": "47236b19",
   "metadata": {
    "hidden": true
   },
   "outputs": [],
   "source": [
    "X_sequences_filtered = remove_non_english_words(X_sequences)"
   ]
  },
  {
   "cell_type": "code",
   "execution_count": 56,
   "id": "0ab30f2b",
   "metadata": {
    "hidden": true
   },
   "outputs": [
    {
     "data": {
      "text/plain": [
       "148"
      ]
     },
     "execution_count": 56,
     "metadata": {},
     "output_type": "execute_result"
    }
   ],
   "source": [
    "len(X_sequences_filtered[0])"
   ]
  },
  {
   "cell_type": "code",
   "execution_count": 61,
   "id": "f09d41ec",
   "metadata": {
    "collapsed": true,
    "hidden": true
   },
   "outputs": [
    {
     "data": {
      "text/plain": [
       "['the',\n",
       " 'silmarillion',\n",
       " 'j',\n",
       " 'r',\n",
       " 'r',\n",
       " 'tolkien',\n",
       " 'the',\n",
       " 'silmarillion',\n",
       " 'is',\n",
       " 'a',\n",
       " 'collection',\n",
       " 'of',\n",
       " 'mythopoeic',\n",
       " 'works',\n",
       " 'by',\n",
       " 'english',\n",
       " 'writer',\n",
       " 'j',\n",
       " 'r',\n",
       " 'r',\n",
       " 'tolkien',\n",
       " 'edited',\n",
       " 'and',\n",
       " 'published',\n",
       " 'posthumously',\n",
       " 'by',\n",
       " 'his',\n",
       " 'son',\n",
       " 'christopher',\n",
       " 'tolkien',\n",
       " 'in',\n",
       " 'with',\n",
       " 'assistance',\n",
       " 'from',\n",
       " 'guy',\n",
       " 'gavriel',\n",
       " 'kay',\n",
       " 'the',\n",
       " 'silmarillion',\n",
       " 'along',\n",
       " 'with',\n",
       " 'j',\n",
       " 'r',\n",
       " 'r',\n",
       " 'other',\n",
       " 'works',\n",
       " 'forms',\n",
       " 'an',\n",
       " 'extensive',\n",
       " 'though',\n",
       " 'incomplete',\n",
       " 'narrative',\n",
       " 'that',\n",
       " 'describes',\n",
       " 'the',\n",
       " 'universe',\n",
       " 'of',\n",
       " 'eä',\n",
       " 'in',\n",
       " 'which',\n",
       " 'are',\n",
       " 'found',\n",
       " 'the',\n",
       " 'lands',\n",
       " 'of',\n",
       " 'valinor',\n",
       " 'beleriand',\n",
       " 'númenor',\n",
       " 'and',\n",
       " 'middle',\n",
       " 'earth',\n",
       " 'within',\n",
       " 'which',\n",
       " 'the',\n",
       " 'hobbit',\n",
       " 'and',\n",
       " 'the',\n",
       " 'lord',\n",
       " 'of',\n",
       " 'the',\n",
       " 'rings',\n",
       " 'take',\n",
       " 'place',\n",
       " 'this',\n",
       " 'book',\n",
       " 'is',\n",
       " 'the',\n",
       " 'first',\n",
       " 'and',\n",
       " 'last',\n",
       " 'book',\n",
       " 'of',\n",
       " 'tolkien',\n",
       " 'the',\n",
       " 'story',\n",
       " 'of',\n",
       " 'the',\n",
       " 'first',\n",
       " 'period',\n",
       " 'from',\n",
       " 'the',\n",
       " 'imaginary',\n",
       " 'world',\n",
       " 'of',\n",
       " 'tolkien',\n",
       " 'the',\n",
       " 'old',\n",
       " 'drama',\n",
       " 'in',\n",
       " 'which',\n",
       " 'the',\n",
       " 'characters',\n",
       " 'of',\n",
       " 'lord',\n",
       " 'of',\n",
       " 'the',\n",
       " 'rings',\n",
       " 'can',\n",
       " 'also',\n",
       " 'find',\n",
       " 'their',\n",
       " 'roots',\n",
       " 'other',\n",
       " 'well',\n",
       " 'known',\n",
       " 'names',\n",
       " 'of',\n",
       " 'lord',\n",
       " 'of',\n",
       " 'the',\n",
       " 'rings',\n",
       " 'such',\n",
       " 'as',\n",
       " 'elrond',\n",
       " 'and',\n",
       " 'galadriel',\n",
       " 'are',\n",
       " 'also',\n",
       " 'heroes',\n",
       " 'of',\n",
       " 'part',\n",
       " 'of',\n",
       " 'a',\n",
       " 'short',\n",
       " 'story',\n",
       " 'in',\n",
       " 'this',\n",
       " 'book']"
      ]
     },
     "execution_count": 61,
     "metadata": {},
     "output_type": "execute_result"
    }
   ],
   "source": [
    "X_sequences_filtered[0]"
   ]
  },
  {
   "cell_type": "code",
   "execution_count": 59,
   "id": "60bcd8db",
   "metadata": {
    "hidden": true,
    "scrolled": true
   },
   "outputs": [
    {
     "data": {
      "text/plain": [
       "50"
      ]
     },
     "execution_count": 59,
     "metadata": {},
     "output_type": "execute_result"
    }
   ],
   "source": [
    "len(X_sequences_filtered)"
   ]
  },
  {
   "cell_type": "code",
   "execution_count": 63,
   "id": "c8de818f",
   "metadata": {
    "hidden": true,
    "scrolled": true
   },
   "outputs": [
    {
     "name": "stdout",
     "output_type": "stream",
     "text": [
      "The total words before filtering was 21590.\n",
      "The total words after filtering was 19336.\n",
      "The total words removed by filtering was 2254.\n",
      "The proportion of words removed by filtering was 10.44.\n"
     ]
    }
   ],
   "source": [
    "words_removed = 0\n",
    "total_words = 0\n",
    "\n",
    "for review, filtered_review in zip(X_sequences, X_sequences_filtered):\n",
    "#     print(f\"length of original review is {len(review)}.\")\n",
    "#     print(f\"length of filtered review is {len(filtered_review)}.\")\n",
    "    \n",
    "    words_removed += (len(review) - len(filtered_review))\n",
    "    total_words += len(review)\n",
    "print(f\"The total words before filtering was {total_words}.\")\n",
    "print(f\"The total words after filtering was {total_words-words_removed}.\")\n",
    "print(f\"The total words removed by filtering was {words_removed}.\")\n",
    "print(f\"The proportion of words removed by filtering was {round((words_removed/total_words)*100, 4)}.\")"
   ]
  },
  {
   "cell_type": "code",
   "execution_count": 77,
   "id": "29d11f1b",
   "metadata": {
    "collapsed": true,
    "hidden": true
   },
   "outputs": [
    {
     "name": "stdout",
     "output_type": "stream",
     "text": [
      "148\n",
      "733\n",
      "339\n",
      "321\n",
      "134\n",
      "440\n",
      "84\n",
      "320\n",
      "757\n",
      "127\n",
      "238\n",
      "597\n",
      "1326\n",
      "368\n",
      "17\n",
      "306\n",
      "106\n",
      "552\n",
      "184\n",
      "367\n",
      "257\n",
      "236\n",
      "523\n",
      "31\n",
      "75\n",
      "135\n",
      "969\n",
      "101\n",
      "84\n",
      "695\n",
      "189\n",
      "489\n",
      "96\n",
      "124\n",
      "341\n",
      "390\n",
      "103\n",
      "598\n",
      "25\n",
      "252\n",
      "902\n",
      "118\n",
      "621\n",
      "2436\n",
      "237\n",
      "598\n",
      "365\n",
      "195\n",
      "342\n",
      "345\n"
     ]
    }
   ],
   "source": [
    "for filtered_review in X_sequences_filtered:\n",
    "    print(len(filtered_review))"
   ]
  },
  {
   "cell_type": "code",
   "execution_count": 88,
   "id": "dd38d8b1",
   "metadata": {
    "hidden": true
   },
   "outputs": [
    {
     "data": {
      "text/plain": [
       "str"
      ]
     },
     "execution_count": 88,
     "metadata": {},
     "output_type": "execute_result"
    }
   ],
   "source": [
    "type(X_sequences_filtered[0][0])"
   ]
  },
  {
   "cell_type": "code",
   "execution_count": 92,
   "id": "6aa8628e",
   "metadata": {
    "hidden": true
   },
   "outputs": [],
   "source": [
    "def rejoin_reviews(filtered_sequences):\n",
    "    review_texts = []\n",
    "    for review_sequence in filtered_sequences:\n",
    "        review_texts.append(\" \".join(review_sequence))\n",
    "    return review_texts"
   ]
  },
  {
   "cell_type": "code",
   "execution_count": 93,
   "id": "eb782327",
   "metadata": {
    "hidden": true
   },
   "outputs": [],
   "source": [
    "X_texts = rejoin_reviews(X_sequences_filtered)"
   ]
  },
  {
   "cell_type": "code",
   "execution_count": 94,
   "id": "9fb6fe36",
   "metadata": {
    "hidden": true
   },
   "outputs": [
    {
     "data": {
      "text/plain": [
       "'the silmarillion j r r tolkien the silmarillion is a collection of mythopoeic works by english writer j r r tolkien edited and published posthumously by his son christopher tolkien in with assistance from guy gavriel kay the silmarillion along with j r r other works forms an extensive though incomplete narrative that describes the universe of eä in which are found the lands of valinor beleriand númenor and middle earth within which the hobbit and the lord of the rings take place this book is the first and last book of tolkien the story of the first period from the imaginary world of tolkien the old drama in which the characters of lord of the rings can also find their roots other well known names of lord of the rings such as elrond and galadriel are also heroes of part of a short story in this book'"
      ]
     },
     "execution_count": 94,
     "metadata": {},
     "output_type": "execute_result"
    }
   ],
   "source": [
    "X_texts[0]"
   ]
  },
  {
   "cell_type": "markdown",
   "id": "6c16acff",
   "metadata": {
    "heading_collapsed": true
   },
   "source": [
    "### Tokenizing and padding the filtered word sequences"
   ]
  },
  {
   "cell_type": "code",
   "execution_count": 95,
   "id": "9e68614b",
   "metadata": {
    "hidden": true
   },
   "outputs": [],
   "source": [
    "num_words=10000\n",
    "tokenizer = Tokenizer(num_words=num_words)"
   ]
  },
  {
   "cell_type": "code",
   "execution_count": 96,
   "id": "2607bbb2",
   "metadata": {
    "hidden": true
   },
   "outputs": [],
   "source": [
    "tokenizer.fit_on_texts(X_texts)"
   ]
  },
  {
   "cell_type": "code",
   "execution_count": 98,
   "id": "6532bab2",
   "metadata": {
    "hidden": true
   },
   "outputs": [],
   "source": [
    "X_token = tokenizer.texts_to_sequences(X_texts)"
   ]
  },
  {
   "cell_type": "code",
   "execution_count": 100,
   "id": "13976700",
   "metadata": {
    "hidden": true
   },
   "outputs": [],
   "source": [
    "X_pad = pad_sequences(X_token, dtype='float32', padding='pre', maxlen=400, truncating='pre')"
   ]
  },
  {
   "cell_type": "code",
   "execution_count": 101,
   "id": "b67c92cd",
   "metadata": {
    "collapsed": true,
    "hidden": true
   },
   "outputs": [
    {
     "data": {
      "text/plain": [
       "array([0.000e+00, 0.000e+00, 0.000e+00, 0.000e+00, 0.000e+00, 0.000e+00,\n",
       "       0.000e+00, 0.000e+00, 0.000e+00, 0.000e+00, 0.000e+00, 0.000e+00,\n",
       "       0.000e+00, 0.000e+00, 0.000e+00, 0.000e+00, 0.000e+00, 0.000e+00,\n",
       "       0.000e+00, 0.000e+00, 0.000e+00, 0.000e+00, 0.000e+00, 0.000e+00,\n",
       "       0.000e+00, 0.000e+00, 0.000e+00, 0.000e+00, 0.000e+00, 0.000e+00,\n",
       "       0.000e+00, 0.000e+00, 0.000e+00, 0.000e+00, 0.000e+00, 0.000e+00,\n",
       "       0.000e+00, 0.000e+00, 0.000e+00, 0.000e+00, 0.000e+00, 0.000e+00,\n",
       "       0.000e+00, 0.000e+00, 0.000e+00, 0.000e+00, 0.000e+00, 0.000e+00,\n",
       "       0.000e+00, 0.000e+00, 0.000e+00, 0.000e+00, 0.000e+00, 0.000e+00,\n",
       "       0.000e+00, 0.000e+00, 0.000e+00, 0.000e+00, 0.000e+00, 0.000e+00,\n",
       "       0.000e+00, 0.000e+00, 0.000e+00, 0.000e+00, 0.000e+00, 0.000e+00,\n",
       "       0.000e+00, 0.000e+00, 0.000e+00, 0.000e+00, 0.000e+00, 0.000e+00,\n",
       "       0.000e+00, 0.000e+00, 0.000e+00, 0.000e+00, 0.000e+00, 0.000e+00,\n",
       "       0.000e+00, 0.000e+00, 0.000e+00, 0.000e+00, 0.000e+00, 0.000e+00,\n",
       "       0.000e+00, 0.000e+00, 0.000e+00, 0.000e+00, 0.000e+00, 0.000e+00,\n",
       "       0.000e+00, 0.000e+00, 0.000e+00, 0.000e+00, 0.000e+00, 0.000e+00,\n",
       "       0.000e+00, 0.000e+00, 0.000e+00, 0.000e+00, 0.000e+00, 0.000e+00,\n",
       "       0.000e+00, 0.000e+00, 0.000e+00, 0.000e+00, 0.000e+00, 0.000e+00,\n",
       "       0.000e+00, 0.000e+00, 0.000e+00, 0.000e+00, 0.000e+00, 0.000e+00,\n",
       "       0.000e+00, 0.000e+00, 0.000e+00, 0.000e+00, 0.000e+00, 0.000e+00,\n",
       "       0.000e+00, 0.000e+00, 0.000e+00, 0.000e+00, 0.000e+00, 0.000e+00,\n",
       "       0.000e+00, 0.000e+00, 0.000e+00, 0.000e+00, 0.000e+00, 0.000e+00,\n",
       "       0.000e+00, 0.000e+00, 0.000e+00, 0.000e+00, 0.000e+00, 0.000e+00,\n",
       "       0.000e+00, 0.000e+00, 0.000e+00, 0.000e+00, 0.000e+00, 0.000e+00,\n",
       "       0.000e+00, 0.000e+00, 0.000e+00, 0.000e+00, 0.000e+00, 0.000e+00,\n",
       "       0.000e+00, 0.000e+00, 0.000e+00, 0.000e+00, 0.000e+00, 0.000e+00,\n",
       "       0.000e+00, 0.000e+00, 0.000e+00, 0.000e+00, 0.000e+00, 0.000e+00,\n",
       "       0.000e+00, 0.000e+00, 0.000e+00, 0.000e+00, 0.000e+00, 0.000e+00,\n",
       "       0.000e+00, 0.000e+00, 0.000e+00, 0.000e+00, 0.000e+00, 0.000e+00,\n",
       "       0.000e+00, 0.000e+00, 0.000e+00, 0.000e+00, 0.000e+00, 0.000e+00,\n",
       "       0.000e+00, 0.000e+00, 0.000e+00, 0.000e+00, 0.000e+00, 0.000e+00,\n",
       "       0.000e+00, 0.000e+00, 0.000e+00, 0.000e+00, 0.000e+00, 0.000e+00,\n",
       "       0.000e+00, 0.000e+00, 0.000e+00, 0.000e+00, 0.000e+00, 0.000e+00,\n",
       "       0.000e+00, 0.000e+00, 0.000e+00, 0.000e+00, 0.000e+00, 0.000e+00,\n",
       "       0.000e+00, 0.000e+00, 0.000e+00, 0.000e+00, 0.000e+00, 0.000e+00,\n",
       "       0.000e+00, 0.000e+00, 0.000e+00, 0.000e+00, 0.000e+00, 0.000e+00,\n",
       "       0.000e+00, 0.000e+00, 0.000e+00, 0.000e+00, 0.000e+00, 0.000e+00,\n",
       "       0.000e+00, 0.000e+00, 0.000e+00, 0.000e+00, 0.000e+00, 0.000e+00,\n",
       "       0.000e+00, 0.000e+00, 0.000e+00, 0.000e+00, 0.000e+00, 0.000e+00,\n",
       "       0.000e+00, 0.000e+00, 0.000e+00, 0.000e+00, 0.000e+00, 0.000e+00,\n",
       "       0.000e+00, 0.000e+00, 0.000e+00, 0.000e+00, 0.000e+00, 0.000e+00,\n",
       "       0.000e+00, 0.000e+00, 0.000e+00, 0.000e+00, 0.000e+00, 0.000e+00,\n",
       "       1.000e+00, 3.610e+02, 4.300e+02, 2.810e+02, 2.810e+02, 1.560e+02,\n",
       "       1.000e+00, 3.610e+02, 9.000e+00, 5.000e+00, 4.310e+02, 3.000e+00,\n",
       "       1.591e+03, 2.170e+02, 2.700e+01, 3.180e+02, 2.350e+02, 4.300e+02,\n",
       "       2.810e+02, 2.810e+02, 1.560e+02, 9.660e+02, 2.000e+00, 5.240e+02,\n",
       "       1.592e+03, 2.700e+01, 2.400e+01, 9.670e+02, 1.593e+03, 1.560e+02,\n",
       "       7.000e+00, 1.700e+01, 1.594e+03, 4.300e+01, 4.320e+02, 1.595e+03,\n",
       "       1.596e+03, 1.000e+00, 3.610e+02, 5.250e+02, 1.700e+01, 4.300e+02,\n",
       "       2.810e+02, 2.810e+02, 5.400e+01, 2.170e+02, 9.680e+02, 4.200e+01,\n",
       "       9.690e+02, 1.460e+02, 1.597e+03, 6.930e+02, 8.000e+00, 9.700e+02,\n",
       "       1.000e+00, 5.260e+02, 3.000e+00, 1.598e+03, 7.000e+00, 6.800e+01,\n",
       "       2.300e+01, 2.360e+02, 1.000e+00, 1.599e+03, 3.000e+00, 1.600e+03,\n",
       "       1.601e+03, 1.602e+03, 2.000e+00, 2.500e+02, 6.940e+02, 2.820e+02,\n",
       "       6.800e+01, 1.000e+00, 1.603e+03, 2.000e+00, 1.000e+00, 4.330e+02,\n",
       "       3.000e+00, 1.000e+00, 5.270e+02, 2.180e+02, 2.370e+02, 1.100e+01,\n",
       "       1.500e+01, 9.000e+00, 1.000e+00, 5.900e+01, 2.000e+00, 1.860e+02,\n",
       "       1.500e+01, 3.000e+00, 1.560e+02, 1.000e+00, 5.800e+01, 3.000e+00,\n",
       "       1.000e+00, 5.900e+01, 5.280e+02, 4.300e+01, 1.000e+00, 6.950e+02,\n",
       "       1.030e+02, 3.000e+00, 1.560e+02, 1.000e+00, 9.800e+01, 9.710e+02,\n",
       "       7.000e+00, 6.800e+01, 1.000e+00, 6.900e+01, 3.000e+00, 4.330e+02,\n",
       "       3.000e+00, 1.000e+00, 5.270e+02, 4.900e+01, 9.400e+01, 9.500e+01,\n",
       "       6.000e+01, 9.720e+02, 5.400e+01, 1.100e+02, 4.340e+02, 5.290e+02,\n",
       "       3.000e+00, 4.330e+02, 3.000e+00, 1.000e+00, 5.270e+02, 1.670e+02,\n",
       "       1.300e+01, 1.604e+03, 2.000e+00, 1.605e+03, 2.300e+01, 9.400e+01,\n",
       "       9.730e+02, 3.000e+00, 1.680e+02, 3.000e+00, 5.000e+00, 2.190e+02,\n",
       "       5.800e+01, 7.000e+00, 1.100e+01, 1.500e+01], dtype=float32)"
      ]
     },
     "execution_count": 101,
     "metadata": {},
     "output_type": "execute_result"
    }
   ],
   "source": [
    "X_pad[0]"
   ]
  },
  {
   "cell_type": "markdown",
   "id": "56915aac",
   "metadata": {
    "hidden": true
   },
   "source": [
    "We have now got a functional preprocessing pipeline to make tensors ready for training the model. "
   ]
  },
  {
   "cell_type": "markdown",
   "id": "82bc9a73",
   "metadata": {},
   "source": [
    "# Preprocessing, model fitting and training"
   ]
  },
  {
   "cell_type": "markdown",
   "id": "b12d2020",
   "metadata": {},
   "source": [
    "## Writing functions for last bit of preprocessing"
   ]
  },
  {
   "cell_type": "code",
   "execution_count": 5,
   "id": "56c06b22",
   "metadata": {},
   "outputs": [],
   "source": [
    "X_raw = goodreads_df['review text']\n",
    "y = goodreads_df['review score']"
   ]
  },
  {
   "cell_type": "code",
   "execution_count": 6,
   "id": "20c41c12",
   "metadata": {},
   "outputs": [],
   "source": [
    "def is_english(word):\n",
    "    for character in word:\n",
    "        if character.isalpha() and unicodedata.name(character).startswith(('LATIN', 'COMMON')):\n",
    "            continue\n",
    "        else:\n",
    "            return False\n",
    "    return True\n",
    "\n",
    "def remove_non_english_words(word_sequences):\n",
    "    filtered_sequences = []\n",
    "    for word_sequence in word_sequences:\n",
    "        filtered = filter(is_english, word_sequence)  \n",
    "        filtered_sequences.append([s for s in filtered])\n",
    "    return filtered_sequences\n",
    "\n",
    "def rejoin_reviews(filtered_sequences):\n",
    "    review_texts = []\n",
    "    for review_sequence in filtered_sequences:\n",
    "        review_texts.append(\" \".join(review_sequence))\n",
    "    return review_texts"
   ]
  },
  {
   "cell_type": "code",
   "execution_count": 7,
   "id": "a11ac49c",
   "metadata": {},
   "outputs": [],
   "source": [
    "X_sequences = [text_to_word_sequence(_) for _ in X_raw]\n",
    "X_sequences_filtered = remove_non_english_words(X_sequences)\n",
    "X = rejoin_reviews(X_sequences_filtered)"
   ]
  },
  {
   "cell_type": "code",
   "execution_count": 8,
   "id": "4ffd89bb",
   "metadata": {},
   "outputs": [],
   "source": [
    "X_train, X_test, y_train, y_test = \\\n",
    "    train_test_split(X, y, test_size=0.20, random_state=1)"
   ]
  },
  {
   "cell_type": "code",
   "execution_count": 9,
   "id": "617190dc",
   "metadata": {},
   "outputs": [],
   "source": [
    "num_words=10000\n",
    "tokenizer = Tokenizer(num_words=num_words)\n",
    "tokenizer.fit_on_texts(X_train)"
   ]
  },
  {
   "cell_type": "code",
   "execution_count": 10,
   "id": "7d9c04fd",
   "metadata": {},
   "outputs": [],
   "source": [
    "X_train_token = tokenizer.texts_to_sequences(X_train)\n",
    "X_test_token = tokenizer.texts_to_sequences(X_test)"
   ]
  },
  {
   "cell_type": "code",
   "execution_count": 11,
   "id": "17701058",
   "metadata": {},
   "outputs": [],
   "source": [
    "X_train_pad = pad_sequences(X_train_token, dtype='float32', padding='pre', maxlen=200, truncating='pre')\n",
    "X_test_pad = pad_sequences(X_test_token, dtype='float32', padding='pre', maxlen=200, truncating='pre')\n",
    "\n",
    "# Changed this to 200 maxlen to see if it speeds up runtime"
   ]
  },
  {
   "cell_type": "markdown",
   "id": "554930fc",
   "metadata": {},
   "source": [
    "## Now constructing, fitting and training the RNN"
   ]
  },
  {
   "cell_type": "code",
   "execution_count": 12,
   "id": "a6c4e12c",
   "metadata": {},
   "outputs": [
    {
     "data": {
      "text/plain": [
       "56179"
      ]
     },
     "execution_count": 12,
     "metadata": {},
     "output_type": "execute_result"
    }
   ],
   "source": [
    "vocab_size = len(tokenizer.word_index)\n",
    "vocab_size"
   ]
  },
  {
   "cell_type": "code",
   "execution_count": 13,
   "id": "f81759d2",
   "metadata": {},
   "outputs": [],
   "source": [
    "embedding_dimension = 50\n",
    "\n",
    "model = Sequential()\n",
    "model.add(layers.Embedding(input_dim=vocab_size + 1, output_dim=embedding_dimension, mask_zero=True))\n",
    "model.add(layers.LSTM(20))\n",
    "model.add(layers.Dense(10, activation=\"relu\"))\n",
    "model.add(layers.Dense(1, activation=\"linear\"))\n",
    "\n",
    "model.compile(loss='mean_squared_error', optimizer='adam', metrics=['mae'])"
   ]
  },
  {
   "cell_type": "code",
   "execution_count": 14,
   "id": "1fa9b0b7",
   "metadata": {},
   "outputs": [
    {
     "name": "stdout",
     "output_type": "stream",
     "text": [
      "Model: \"sequential\"\n",
      "_________________________________________________________________\n",
      " Layer (type)                Output Shape              Param #   \n",
      "=================================================================\n",
      " embedding (Embedding)       (None, None, 50)          2809000   \n",
      "                                                                 \n",
      " lstm (LSTM)                 (None, 20)                5680      \n",
      "                                                                 \n",
      " dense (Dense)               (None, 10)                210       \n",
      "                                                                 \n",
      " dense_1 (Dense)             (None, 1)                 11        \n",
      "                                                                 \n",
      "=================================================================\n",
      "Total params: 2,814,901\n",
      "Trainable params: 2,814,901\n",
      "Non-trainable params: 0\n",
      "_________________________________________________________________\n"
     ]
    }
   ],
   "source": [
    "model.summary()"
   ]
  },
  {
   "cell_type": "code",
   "execution_count": 15,
   "id": "4486590e",
   "metadata": {},
   "outputs": [
    {
     "name": "stdout",
     "output_type": "stream",
     "text": [
      "Epoch 1/20\n",
      "52/52 [==============================] - 14s 206ms/step - loss: 9.0838 - mae: 2.5682 - val_loss: 2.0167 - val_mae: 1.0373\n",
      "Epoch 2/20\n",
      "52/52 [==============================] - 10s 186ms/step - loss: 1.7326 - mae: 1.0164 - val_loss: 1.7639 - val_mae: 1.0122\n",
      "Epoch 3/20\n",
      "52/52 [==============================] - 10s 189ms/step - loss: 1.6440 - mae: 0.9904 - val_loss: 1.7273 - val_mae: 1.0165\n",
      "Epoch 4/20\n",
      "52/52 [==============================] - 10s 185ms/step - loss: 1.5638 - mae: 0.9708 - val_loss: 1.6871 - val_mae: 1.0123\n",
      "Epoch 5/20\n",
      "52/52 [==============================] - 10s 192ms/step - loss: 1.4335 - mae: 0.9354 - val_loss: 1.6289 - val_mae: 1.0022\n",
      "Epoch 6/20\n",
      "52/52 [==============================] - 10s 192ms/step - loss: 1.1874 - mae: 0.8434 - val_loss: 1.7053 - val_mae: 1.1008\n",
      "Epoch 7/20\n",
      "52/52 [==============================] - 10s 189ms/step - loss: 0.9044 - mae: 0.7167 - val_loss: 1.3611 - val_mae: 0.8979\n",
      "Epoch 8/20\n",
      "52/52 [==============================] - 10s 186ms/step - loss: 0.6639 - mae: 0.6030 - val_loss: 1.3833 - val_mae: 0.8749\n",
      "Epoch 9/20\n",
      "52/52 [==============================] - 10s 186ms/step - loss: 0.4993 - mae: 0.5200 - val_loss: 1.4253 - val_mae: 0.8829\n",
      "Epoch 10/20\n",
      "52/52 [==============================] - 10s 188ms/step - loss: 0.3850 - mae: 0.4511 - val_loss: 1.4661 - val_mae: 0.8918\n"
     ]
    },
    {
     "data": {
      "text/plain": [
       "<keras.callbacks.History at 0x7fa3d218bc40>"
      ]
     },
     "execution_count": 15,
     "metadata": {},
     "output_type": "execute_result"
    }
   ],
   "source": [
    "es = EarlyStopping(patience=3, restore_best_weights=True)\n",
    "\n",
    "model.fit(X_train_pad, y_train, \n",
    "          epochs=20, \n",
    "          batch_size=128, # higher batch size than optimal to speed up testing\n",
    "          validation_split=0.3,\n",
    "          callbacks=[es]\n",
    "         )"
   ]
  },
  {
   "cell_type": "markdown",
   "id": "accdf52f",
   "metadata": {},
   "source": [
    "## Baseline for comparison"
   ]
  },
  {
   "cell_type": "code",
   "execution_count": 32,
   "id": "e8b67919",
   "metadata": {},
   "outputs": [],
   "source": [
    "from sklearn.metrics import mean_squared_error, mean_absolute_error"
   ]
  },
  {
   "cell_type": "code",
   "execution_count": 30,
   "id": "a2882fa1",
   "metadata": {},
   "outputs": [
    {
     "data": {
      "text/plain": [
       "5    4491\n",
       "4    2490\n",
       "3     962\n",
       "1     781\n",
       "2     622\n",
       "Name: review score, dtype: int64"
      ]
     },
     "execution_count": 30,
     "metadata": {},
     "output_type": "execute_result"
    }
   ],
   "source": [
    "y_train.value_counts()"
   ]
  },
  {
   "cell_type": "code",
   "execution_count": 20,
   "id": "61bb659e",
   "metadata": {},
   "outputs": [
    {
     "data": {
      "text/plain": [
       "(array([ 781.,  622.,  962., 2490., 4491.]),\n",
       " array([1. , 1.8, 2.6, 3.4, 4.2, 5. ]),\n",
       " <BarContainer object of 5 artists>)"
      ]
     },
     "execution_count": 20,
     "metadata": {},
     "output_type": "execute_result"
    },
    {
     "data": {
      "image/png": "[encoded data removed]",
      "text/plain": [
       "<Figure size 640x480 with 1 Axes>"
      ]
     },
     "metadata": {},
     "output_type": "display_data"
    }
   ],
   "source": [
    "plt.hist(y_train, bins=5)"
   ]
  },
  {
   "cell_type": "code",
   "execution_count": 19,
   "id": "75e2c526",
   "metadata": {},
   "outputs": [
    {
     "data": {
      "text/plain": [
       "(9346,)"
      ]
     },
     "execution_count": 19,
     "metadata": {},
     "output_type": "execute_result"
    }
   ],
   "source": [
    "y_train.shape"
   ]
  },
  {
   "cell_type": "code",
   "execution_count": 21,
   "id": "994f5dfe",
   "metadata": {},
   "outputs": [],
   "source": [
    "baseline_predictions = [5]*len(y_test)"
   ]
  },
  {
   "cell_type": "code",
   "execution_count": 35,
   "id": "7c7edef1",
   "metadata": {},
   "outputs": [
    {
     "data": {
      "text/plain": [
       "2.7248609328198543"
      ]
     },
     "execution_count": 35,
     "metadata": {},
     "output_type": "execute_result"
    }
   ],
   "source": [
    "baseline_mse_score = mean_squared_error(y_test, baseline_predictions)\n",
    "baseline_mse_score"
   ]
  },
  {
   "cell_type": "code",
   "execution_count": 33,
   "id": "a6328d3b",
   "metadata": {},
   "outputs": [
    {
     "data": {
      "text/plain": [
       "1.0500641848523748"
      ]
     },
     "execution_count": 33,
     "metadata": {},
     "output_type": "execute_result"
    }
   ],
   "source": [
    "baseline_mae_score = mean_absolute_error(y_test, baseline_predictions)\n",
    "baseline_mae_score"
   ]
  },
  {
   "cell_type": "markdown",
   "id": "6fc8d4cd",
   "metadata": {},
   "source": [
    "## Evaluate model on test set"
   ]
  },
  {
   "cell_type": "code",
   "execution_count": 31,
   "id": "2eecded4",
   "metadata": {},
   "outputs": [
    {
     "name": "stdout",
     "output_type": "stream",
     "text": [
      "74/74 [==============================] - 2s 23ms/step - loss: 1.4209 - mae: 0.9270\n"
     ]
    },
    {
     "data": {
      "text/plain": [
       "[1.4209065437316895, 0.9269561767578125]"
      ]
     },
     "execution_count": 31,
     "metadata": {},
     "output_type": "execute_result"
    }
   ],
   "source": [
    "model.evaluate(X_test_pad, y_test)"
   ]
  },
  {
   "cell_type": "code",
   "execution_count": 36,
   "id": "d7bf2752",
   "metadata": {},
   "outputs": [
    {
     "data": {
      "text/plain": [
       "[2.7248609328198543, 1.0500641848523748]"
      ]
     },
     "execution_count": 36,
     "metadata": {},
     "output_type": "execute_result"
    }
   ],
   "source": [
    "[baseline_mse_score, baseline_mae_score]"
   ]
  }
 ],
 "metadata": {
  "kernelspec": {
   "display_name": "Python 3 (ipykernel)",
   "language": "python",
   "name": "python3"
  },
  "language_info": {
   "codemirror_mode": {
    "name": "ipython",
    "version": 3
   },
   "file_extension": ".py",
   "mimetype": "text/x-python",
   "name": "python",
   "nbconvert_exporter": "python",
   "pygments_lexer": "ipython3",
   "version": "3.10.6"
  },
  "toc": {
   "base_numbering": 1,
   "nav_menu": {},
   "number_sections": true,
   "sideBar": true,
   "skip_h1_title": false,
   "title_cell": "Table of Contents",
   "title_sidebar": "Contents",
   "toc_cell": false,
   "toc_position": {},
   "toc_section_display": true,
   "toc_window_display": false
  }
 },
 "nbformat": 4,
 "nbformat_minor": 5
}
