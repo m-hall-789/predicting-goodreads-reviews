{
 "cells": [
  {
   "cell_type": "markdown",
   "id": "25949517",
   "metadata": {},
   "source": [
    "# Goodreads Reviews Dataset Exploration"
   ]
  },
  {
   "cell_type": "markdown",
   "id": "f6ac4fce",
   "metadata": {},
   "source": [
    "## Imports"
   ]
  },
  {
   "cell_type": "code",
   "execution_count": 1,
   "id": "a7e89768",
   "metadata": {},
   "outputs": [],
   "source": [
    "%load_ext autoreload\n",
    "%autoreload 2"
   ]
  },
  {
   "cell_type": "code",
   "execution_count": 2,
   "id": "79731dc1",
   "metadata": {},
   "outputs": [],
   "source": [
    "import numpy\n",
    "import pandas as pd\n",
    "import matplotlib.pyplot as plt"
   ]
  },
  {
   "cell_type": "code",
   "execution_count": 3,
   "id": "814d9506",
   "metadata": {},
   "outputs": [],
   "source": [
    "goodreads_df = pd.read_csv('goodreads-reviews-full-dataset.csv')"
   ]
  },
  {
   "cell_type": "markdown",
   "id": "730229a2",
   "metadata": {},
   "source": [
    "## EDA on the dataset"
   ]
  },
  {
   "cell_type": "code",
   "execution_count": null,
   "id": "33d29ef1",
   "metadata": {},
   "outputs": [],
   "source": [
    "goodreads_df.head()"
   ]
  },
  {
   "cell_type": "code",
   "execution_count": null,
   "id": "b1b0fff8",
   "metadata": {},
   "outputs": [],
   "source": [
    "goodreads_df.info()"
   ]
  },
  {
   "cell_type": "code",
   "execution_count": null,
   "id": "0f2e07a5",
   "metadata": {},
   "outputs": [],
   "source": [
    "goodreads_df.describe()"
   ]
  },
  {
   "cell_type": "code",
   "execution_count": null,
   "id": "718a1100",
   "metadata": {},
   "outputs": [],
   "source": [
    "goodreads_df.shape"
   ]
  },
  {
   "cell_type": "code",
   "execution_count": null,
   "id": "91568386",
   "metadata": {},
   "outputs": [],
   "source": [
    "goodreads_df.isnull().sum()"
   ]
  },
  {
   "cell_type": "code",
   "execution_count": null,
   "id": "28a5b2fc",
   "metadata": {},
   "outputs": [],
   "source": [
    "goodreads_df['review score'].value_counts()"
   ]
  },
  {
   "cell_type": "code",
   "execution_count": null,
   "id": "04efe8cc",
   "metadata": {},
   "outputs": [],
   "source": [
    "goodreads_df.dtypes"
   ]
  },
  {
   "cell_type": "markdown",
   "id": "ba695b4d",
   "metadata": {},
   "source": [
    "## Getting review word count"
   ]
  },
  {
   "cell_type": "markdown",
   "id": "12c38807",
   "metadata": {},
   "source": [
    "### Using a sample dataframe to test"
   ]
  },
  {
   "cell_type": "code",
   "execution_count": 12,
   "id": "4f6d2224",
   "metadata": {},
   "outputs": [
    {
     "data": {
      "text/html": [
       "<div>\n",
       "<style scoped>\n",
       "    .dataframe tbody tr th:only-of-type {\n",
       "        vertical-align: middle;\n",
       "    }\n",
       "\n",
       "    .dataframe tbody tr th {\n",
       "        vertical-align: top;\n",
       "    }\n",
       "\n",
       "    .dataframe thead th {\n",
       "        text-align: right;\n",
       "    }\n",
       "</style>\n",
       "<table border=\"1\" class=\"dataframe\">\n",
       "  <thead>\n",
       "    <tr style=\"text-align: right;\">\n",
       "      <th></th>\n",
       "      <th>review score</th>\n",
       "      <th>review text</th>\n",
       "    </tr>\n",
       "  </thead>\n",
       "  <tbody>\n",
       "    <tr>\n",
       "      <th>8008</th>\n",
       "      <td>4</td>\n",
       "      <td>\"Nothing ever happens like you imagine it will...</td>\n",
       "    </tr>\n",
       "    <tr>\n",
       "      <th>9867</th>\n",
       "      <td>4</td>\n",
       "      <td>Yayyy!!!! Finally I could read a classic-crime...</td>\n",
       "    </tr>\n",
       "    <tr>\n",
       "      <th>4937</th>\n",
       "      <td>5</td>\n",
       "      <td>Another classic. If you don't like this series...</td>\n",
       "    </tr>\n",
       "    <tr>\n",
       "      <th>10</th>\n",
       "      <td>1</td>\n",
       "      <td>A lot of things are troubling me about The Hun...</td>\n",
       "    </tr>\n",
       "    <tr>\n",
       "      <th>7115</th>\n",
       "      <td>4</td>\n",
       "      <td>I've been completely fangirling over Gillian F...</td>\n",
       "    </tr>\n",
       "  </tbody>\n",
       "</table>\n",
       "</div>"
      ],
      "text/plain": [
       "      review score                                        review text\n",
       "8008             4  \"Nothing ever happens like you imagine it will...\n",
       "9867             4  Yayyy!!!! Finally I could read a classic-crime...\n",
       "4937             5  Another classic. If you don't like this series...\n",
       "10               1  A lot of things are troubling me about The Hun...\n",
       "7115             4  I've been completely fangirling over Gillian F..."
      ]
     },
     "execution_count": 12,
     "metadata": {},
     "output_type": "execute_result"
    }
   ],
   "source": [
    "sample_df = goodreads_df.sample(50)\n",
    "sample_df.head()"
   ]
  },
  {
   "cell_type": "code",
   "execution_count": null,
   "id": "9125c331",
   "metadata": {},
   "outputs": [],
   "source": [
    "sample_df['review_word_count'] = sample_df['review text'].str.split().apply(len)"
   ]
  },
  {
   "cell_type": "code",
   "execution_count": null,
   "id": "0bc6c802",
   "metadata": {},
   "outputs": [],
   "source": [
    "sample_df.head()"
   ]
  },
  {
   "cell_type": "code",
   "execution_count": null,
   "id": "9663e04a",
   "metadata": {},
   "outputs": [],
   "source": [
    "sample_df['review_word_count'].hist()"
   ]
  },
  {
   "cell_type": "markdown",
   "id": "1101b781",
   "metadata": {},
   "source": [
    "### Now doing the same on the full df"
   ]
  },
  {
   "cell_type": "code",
   "execution_count": null,
   "id": "4864f6a0",
   "metadata": {},
   "outputs": [],
   "source": [
    "goodreads_df['review_word_count'] = goodreads_df['review text'].str.split().apply(len)"
   ]
  },
  {
   "cell_type": "code",
   "execution_count": null,
   "id": "12ca2f7e",
   "metadata": {},
   "outputs": [],
   "source": [
    "goodreads_df['review_word_count'].hist(bins=20)"
   ]
  },
  {
   "cell_type": "code",
   "execution_count": null,
   "id": "6c5cfcae",
   "metadata": {},
   "outputs": [],
   "source": [
    "goodreads_df.describe()"
   ]
  },
  {
   "cell_type": "markdown",
   "id": "30cacc07",
   "metadata": {},
   "source": [
    "This shows that there are some outliers in terms of review size, but the majority of reviews are under 500 words. Therefore, will be trimming the review length to around 500 words and padding up to there as a starting point, and potentially trimming it further if it would speed up the process. I think I will keep the last 500 word of longer reviews, as they are more likely to be representative of the associated review score from the conclusion."
   ]
  },
  {
   "cell_type": "code",
   "execution_count": null,
   "id": "40639a56",
   "metadata": {},
   "outputs": [],
   "source": [
    "goodreads_df[goodreads_df['review_word_count'] == float(0)].count()"
   ]
  },
  {
   "cell_type": "markdown",
   "id": "195fd9bd",
   "metadata": {},
   "source": [
    "# Model training"
   ]
  },
  {
   "cell_type": "markdown",
   "id": "fef74b91",
   "metadata": {},
   "source": [
    "### Imports"
   ]
  },
  {
   "cell_type": "code",
   "execution_count": 4,
   "id": "0104b951",
   "metadata": {},
   "outputs": [
    {
     "name": "stderr",
     "output_type": "stream",
     "text": [
      "2023-07-24 14:03:41.773574: E tensorflow/stream_executor/cuda/cuda_blas.cc:2981] Unable to register cuBLAS factory: Attempting to register factory for plugin cuBLAS when one has already been registered\n"
     ]
    }
   ],
   "source": [
    "from sklearn.model_selection import train_test_split\n",
    "from tensorflow.keras.preprocessing.text import text_to_word_sequence\n",
    "from tensorflow.keras.preprocessing.text import Tokenizer\n",
    "from tensorflow.keras.preprocessing.sequence import pad_sequences\n",
    "\n",
    "from tensorflow.keras import Sequential, layers\n",
    "from tensorflow.keras.callbacks import EarlyStopping\n",
    "\n",
    "import unicodedata"
   ]
  },
  {
   "cell_type": "markdown",
   "id": "f151ab01",
   "metadata": {},
   "source": [
    "## Testing text preprocessing on sample df"
   ]
  },
  {
   "cell_type": "markdown",
   "id": "ac0cb1c2",
   "metadata": {},
   "source": [
    "### Making the reviews into text sequences"
   ]
  },
  {
   "cell_type": "code",
   "execution_count": 13,
   "id": "a482411e",
   "metadata": {},
   "outputs": [],
   "source": [
    "X = sample_df['review text']\n",
    "y = sample_df['review score']"
   ]
  },
  {
   "cell_type": "code",
   "execution_count": null,
   "id": "68bd4a1f",
   "metadata": {},
   "outputs": [],
   "source": [
    "# X_train, X_test, y_train, y_test = \\\n",
    "#     train_test_split(X, y, test_size=0.20, random_state=1)"
   ]
  },
  {
   "cell_type": "code",
   "execution_count": null,
   "id": "376b93d9",
   "metadata": {
    "scrolled": true
   },
   "outputs": [],
   "source": [
    "X.head()"
   ]
  },
  {
   "cell_type": "code",
   "execution_count": null,
   "id": "777b5a31",
   "metadata": {},
   "outputs": [],
   "source": [
    "X_sequences = [text_to_word_sequence(_) for _ in X]"
   ]
  },
  {
   "cell_type": "code",
   "execution_count": null,
   "id": "83667420",
   "metadata": {},
   "outputs": [],
   "source": [
    "X_sequences[0]"
   ]
  },
  {
   "cell_type": "markdown",
   "id": "c22af159",
   "metadata": {
    "heading_collapsed": true
   },
   "source": [
    "### Removing Non-English characters from list"
   ]
  },
  {
   "cell_type": "code",
   "execution_count": null,
   "id": "8a93ecb6",
   "metadata": {
    "hidden": true
   },
   "outputs": [],
   "source": [
    "def is_english(word):\n",
    "    for character in word:\n",
    "        if character.isalpha() and unicodedata.name(character).startswith(('LATIN', 'COMMON')):\n",
    "            continue\n",
    "        else:\n",
    "            return False\n",
    "    return True\n",
    " \n",
    "def remove_non_english_words(word_sequences):\n",
    "    filtered_sequences = []\n",
    "    for word_sequence in word_sequences:\n",
    "        filtered = filter(is_english, word_sequence)  \n",
    "        filtered_sequences.append([s for s in filtered])\n",
    "#         english_str = ''.join(filtered)\n",
    "#         output.append(english_str)\n",
    "    return filtered_sequences"
   ]
  },
  {
   "cell_type": "code",
   "execution_count": null,
   "id": "ce04b7f9",
   "metadata": {
    "hidden": true
   },
   "outputs": [],
   "source": [
    "filtered = filter(is_english, X_sequences[0])"
   ]
  },
  {
   "cell_type": "code",
   "execution_count": null,
   "id": "55a27799",
   "metadata": {
    "hidden": true
   },
   "outputs": [],
   "source": [
    "filtered_review = [s for s in filtered]    "
   ]
  },
  {
   "cell_type": "code",
   "execution_count": null,
   "id": "83a2de8b",
   "metadata": {
    "hidden": true
   },
   "outputs": [],
   "source": [
    "filtered_review"
   ]
  },
  {
   "cell_type": "code",
   "execution_count": null,
   "id": "bde9271b",
   "metadata": {
    "hidden": true,
    "scrolled": true
   },
   "outputs": [],
   "source": [
    "print(len(X_sequences[0]), len(filtered_review), sep='\\n')"
   ]
  },
  {
   "cell_type": "code",
   "execution_count": null,
   "id": "203e053a",
   "metadata": {
    "hidden": true
   },
   "outputs": [],
   "source": [
    "X_sequences_filtered = remove_non_english_words(X_sequences)"
   ]
  },
  {
   "cell_type": "code",
   "execution_count": null,
   "id": "9ab2212d",
   "metadata": {
    "hidden": true
   },
   "outputs": [],
   "source": [
    "len(X_sequences_filtered[0])"
   ]
  },
  {
   "cell_type": "code",
   "execution_count": null,
   "id": "fc5bdbbe",
   "metadata": {
    "hidden": true
   },
   "outputs": [],
   "source": [
    "X_sequences_filtered[0]"
   ]
  },
  {
   "cell_type": "code",
   "execution_count": null,
   "id": "2a2bc349",
   "metadata": {
    "hidden": true,
    "scrolled": true
   },
   "outputs": [],
   "source": [
    "len(X_sequences_filtered)"
   ]
  },
  {
   "cell_type": "code",
   "execution_count": null,
   "id": "9bf06110",
   "metadata": {
    "hidden": true,
    "scrolled": true
   },
   "outputs": [],
   "source": [
    "words_removed = 0\n",
    "total_words = 0\n",
    "\n",
    "for review, filtered_review in zip(X_sequences, X_sequences_filtered):\n",
    "#     print(f\"length of original review is {len(review)}.\")\n",
    "#     print(f\"length of filtered review is {len(filtered_review)}.\")\n",
    "    \n",
    "    words_removed += (len(review) - len(filtered_review))\n",
    "    total_words += len(review)\n",
    "print(f\"The total words before filtering was {total_words}.\")\n",
    "print(f\"The total words after filtering was {total_words-words_removed}.\")\n",
    "print(f\"The total words removed by filtering was {words_removed}.\")\n",
    "print(f\"The proportion of words removed by filtering was {round((words_removed/total_words)*100, 4)}.\")"
   ]
  },
  {
   "cell_type": "code",
   "execution_count": null,
   "id": "6b46cdcc",
   "metadata": {
    "hidden": true
   },
   "outputs": [],
   "source": [
    "for filtered_review in X_sequences_filtered:\n",
    "    print(len(filtered_review))"
   ]
  },
  {
   "cell_type": "code",
   "execution_count": null,
   "id": "e600a681",
   "metadata": {
    "hidden": true
   },
   "outputs": [],
   "source": [
    "type(X_sequences_filtered[0][0])"
   ]
  },
  {
   "cell_type": "code",
   "execution_count": null,
   "id": "b4c95ffa",
   "metadata": {
    "hidden": true
   },
   "outputs": [],
   "source": [
    "def rejoin_reviews(filtered_sequences):\n",
    "    review_texts = []\n",
    "    for review_sequence in filtered_sequences:\n",
    "        review_texts.append(\" \".join(review_sequence))\n",
    "    return review_texts"
   ]
  },
  {
   "cell_type": "code",
   "execution_count": null,
   "id": "582da835",
   "metadata": {
    "hidden": true
   },
   "outputs": [],
   "source": [
    "X_texts = rejoin_reviews(X_sequences_filtered)"
   ]
  },
  {
   "cell_type": "code",
   "execution_count": null,
   "id": "14242c64",
   "metadata": {
    "hidden": true
   },
   "outputs": [],
   "source": [
    "X_texts[0]"
   ]
  },
  {
   "cell_type": "markdown",
   "id": "d9cf750a",
   "metadata": {},
   "source": [
    "### Tokenizing and padding the filtered word sequences"
   ]
  },
  {
   "cell_type": "code",
   "execution_count": null,
   "id": "ae8fe0d8",
   "metadata": {},
   "outputs": [],
   "source": [
    "num_words=10000\n",
    "tokenizer = Tokenizer(num_words=num_words)"
   ]
  },
  {
   "cell_type": "code",
   "execution_count": null,
   "id": "01131161",
   "metadata": {},
   "outputs": [],
   "source": [
    "tokenizer.fit_on_texts(X_texts)"
   ]
  },
  {
   "cell_type": "code",
   "execution_count": null,
   "id": "057c4329",
   "metadata": {},
   "outputs": [],
   "source": [
    "X_token = tokenizer.texts_to_sequences(X_texts)"
   ]
  },
  {
   "cell_type": "code",
   "execution_count": null,
   "id": "51a6a3c9",
   "metadata": {},
   "outputs": [],
   "source": [
    "X_pad = pad_sequences(X_token, dtype='float32', padding='pre', maxlen=400, truncating='pre')"
   ]
  },
  {
   "cell_type": "code",
   "execution_count": null,
   "id": "7f997fd5",
   "metadata": {},
   "outputs": [],
   "source": [
    "X_pad[0]"
   ]
  },
  {
   "cell_type": "markdown",
   "id": "5fcdea2e",
   "metadata": {},
   "source": [
    "We have now got a functional preprocessing pipeline to make tensors ready for training the model. "
   ]
  },
  {
   "cell_type": "markdown",
   "id": "becad55e",
   "metadata": {},
   "source": [
    "## Testing removing stopwords and lemmatizing"
   ]
  },
  {
   "cell_type": "code",
   "execution_count": 56,
   "id": "1b3c169a",
   "metadata": {},
   "outputs": [
    {
     "data": {
      "text/html": [
       "<div>\n",
       "<style scoped>\n",
       "    .dataframe tbody tr th:only-of-type {\n",
       "        vertical-align: middle;\n",
       "    }\n",
       "\n",
       "    .dataframe tbody tr th {\n",
       "        vertical-align: top;\n",
       "    }\n",
       "\n",
       "    .dataframe thead th {\n",
       "        text-align: right;\n",
       "    }\n",
       "</style>\n",
       "<table border=\"1\" class=\"dataframe\">\n",
       "  <thead>\n",
       "    <tr style=\"text-align: right;\">\n",
       "      <th></th>\n",
       "      <th>review score</th>\n",
       "      <th>review text</th>\n",
       "    </tr>\n",
       "  </thead>\n",
       "  <tbody>\n",
       "    <tr>\n",
       "      <th>10789</th>\n",
       "      <td>4</td>\n",
       "      <td>Okay, I didn't finish this sucker. It was poor...</td>\n",
       "    </tr>\n",
       "    <tr>\n",
       "      <th>10151</th>\n",
       "      <td>5</td>\n",
       "      <td>One day, this man decided to tell his family's...</td>\n",
       "    </tr>\n",
       "    <tr>\n",
       "      <th>10878</th>\n",
       "      <td>5</td>\n",
       "      <td>Holy crap! This \"1-Dayer\" deserves applause &amp; ...</td>\n",
       "    </tr>\n",
       "    <tr>\n",
       "      <th>5122</th>\n",
       "      <td>5</td>\n",
       "      <td>The Sgt Pepper and the Citizen Kane of ghost s...</td>\n",
       "    </tr>\n",
       "    <tr>\n",
       "      <th>8280</th>\n",
       "      <td>2</td>\n",
       "      <td>Did I ever think a day would come for me to sa...</td>\n",
       "    </tr>\n",
       "  </tbody>\n",
       "</table>\n",
       "</div>"
      ],
      "text/plain": [
       "       review score                                        review text\n",
       "10789             4  Okay, I didn't finish this sucker. It was poor...\n",
       "10151             5  One day, this man decided to tell his family's...\n",
       "10878             5  Holy crap! This \"1-Dayer\" deserves applause & ...\n",
       "5122              5  The Sgt Pepper and the Citizen Kane of ghost s...\n",
       "8280              2  Did I ever think a day would come for me to sa..."
      ]
     },
     "execution_count": 56,
     "metadata": {},
     "output_type": "execute_result"
    }
   ],
   "source": [
    "sample_df = goodreads_df.sample(250)\n",
    "sample_df.head()"
   ]
  },
  {
   "cell_type": "code",
   "execution_count": 57,
   "id": "be3abef6",
   "metadata": {},
   "outputs": [],
   "source": [
    "X = sample_df['review text']\n",
    "y = sample_df['review score']"
   ]
  },
  {
   "cell_type": "code",
   "execution_count": 58,
   "id": "8bcb09cd",
   "metadata": {},
   "outputs": [],
   "source": [
    "X_sequences = [text_to_word_sequence(_) for _ in X]\n",
    "X_sequences_filtered = remove_non_english_words(X_sequences)"
   ]
  },
  {
   "cell_type": "code",
   "execution_count": 17,
   "id": "bd1782ae",
   "metadata": {
    "collapsed": true
   },
   "outputs": [
    {
     "data": {
      "text/plain": [
       "['well',\n",
       " 'the',\n",
       " 'tree',\n",
       " 'grows',\n",
       " 'very',\n",
       " 'slowly',\n",
       " 'and',\n",
       " 'with',\n",
       " 'exhaustive',\n",
       " 'detail',\n",
       " 'get',\n",
       " 'through',\n",
       " 'this',\n",
       " 'one',\n",
       " 'actually',\n",
       " 'not',\n",
       " 'entirely',\n",
       " 'true',\n",
       " 'i',\n",
       " 'could',\n",
       " 'have',\n",
       " 'and',\n",
       " 'i',\n",
       " 'mean',\n",
       " 'that',\n",
       " 'in',\n",
       " 'the',\n",
       " 'way',\n",
       " 'of',\n",
       " 'a',\n",
       " 'mountain',\n",
       " 'climber',\n",
       " 'who',\n",
       " 'just',\n",
       " 'make',\n",
       " 'it',\n",
       " 'to',\n",
       " 'the',\n",
       " 'top',\n",
       " 'and',\n",
       " 'then',\n",
       " 'warps',\n",
       " 'reality',\n",
       " 'by',\n",
       " 'looking',\n",
       " 'back',\n",
       " 'at',\n",
       " 'it',\n",
       " 'no',\n",
       " 'more',\n",
       " 'like',\n",
       " 'as',\n",
       " 'in',\n",
       " 'i',\n",
       " 'eat',\n",
       " 'another',\n",
       " 'hashbrown',\n",
       " 'from',\n",
       " 'my',\n",
       " 'breakfast',\n",
       " 'sure',\n",
       " 'i',\n",
       " 'could',\n",
       " 'have',\n",
       " 'it',\n",
       " 'just',\n",
       " 'seem',\n",
       " 'worth',\n",
       " 'the',\n",
       " 'pain',\n",
       " 'i',\n",
       " 'get',\n",
       " 'why',\n",
       " 'this',\n",
       " 'book',\n",
       " 'is',\n",
       " 'a',\n",
       " 'classic',\n",
       " 'i',\n",
       " 'think',\n",
       " 'my',\n",
       " 'brother',\n",
       " 'and',\n",
       " 'i',\n",
       " 'argue',\n",
       " 'about',\n",
       " 'this',\n",
       " 'all',\n",
       " 'the',\n",
       " 'time',\n",
       " 'he',\n",
       " 'feels',\n",
       " 'like',\n",
       " 'important',\n",
       " 'to',\n",
       " 'watch',\n",
       " 'a',\n",
       " 'movie',\n",
       " 'like',\n",
       " 'casablanca',\n",
       " 'because',\n",
       " 'historically',\n",
       " 'significant',\n",
       " 'to',\n",
       " 'the',\n",
       " 'medium',\n",
       " 'of',\n",
       " 'film',\n",
       " 'he',\n",
       " 'makes',\n",
       " 'the',\n",
       " 'point',\n",
       " 'that',\n",
       " 'without',\n",
       " 'casablanca',\n",
       " 'there',\n",
       " 'is',\n",
       " 'no',\n",
       " 'ghostbusters',\n",
       " 'okay',\n",
       " 'he',\n",
       " 'point',\n",
       " 'to',\n",
       " 'ghostbusters',\n",
       " 'but',\n",
       " 'he',\n",
       " 'should',\n",
       " 'if',\n",
       " 'he',\n",
       " 'ever',\n",
       " 'wants',\n",
       " 'to',\n",
       " 'get',\n",
       " 'any',\n",
       " 'traction',\n",
       " 'with',\n",
       " 'me',\n",
       " 'this',\n",
       " 'book',\n",
       " 'is',\n",
       " 'definitely',\n",
       " 'of',\n",
       " 'interest',\n",
       " 'as',\n",
       " 'a',\n",
       " 'historical',\n",
       " 'document',\n",
       " 'an',\n",
       " 'historical',\n",
       " 'document',\n",
       " 'you',\n",
       " 'know',\n",
       " 'what',\n",
       " 'not',\n",
       " 'done',\n",
       " 'talking',\n",
       " 'about',\n",
       " 'ghostbusters',\n",
       " 'so',\n",
       " 'we',\n",
       " 'better',\n",
       " 'stick',\n",
       " 'with',\n",
       " 'a',\n",
       " 'historical',\n",
       " 'document',\n",
       " 'the',\n",
       " 'book',\n",
       " 'is',\n",
       " 'excruciatingly',\n",
       " 'detailed',\n",
       " 'about',\n",
       " 'day',\n",
       " 'to',\n",
       " 'day',\n",
       " 'life',\n",
       " 'in',\n",
       " 'brooklyn',\n",
       " 'during',\n",
       " 'the',\n",
       " 'early',\n",
       " 'down',\n",
       " 'to',\n",
       " 'what',\n",
       " 'they',\n",
       " 'had',\n",
       " 'at',\n",
       " 'the',\n",
       " 'candy',\n",
       " 'store',\n",
       " 'i',\n",
       " 'shit',\n",
       " 'you',\n",
       " 'not',\n",
       " 'a',\n",
       " 'page',\n",
       " 'and',\n",
       " 'a',\n",
       " 'half',\n",
       " 'describing',\n",
       " 'the',\n",
       " 'purchase',\n",
       " 'of',\n",
       " 'a',\n",
       " 'pickle',\n",
       " 'the',\n",
       " 'why',\n",
       " 'of',\n",
       " 'a',\n",
       " 'pickle',\n",
       " 'purchase',\n",
       " 'the',\n",
       " 'best',\n",
       " 'practices',\n",
       " 'the',\n",
       " 'roles',\n",
       " 'played',\n",
       " 'by',\n",
       " 'both',\n",
       " 'seller',\n",
       " 'and',\n",
       " 'buyer',\n",
       " 'and',\n",
       " 'here',\n",
       " 'i',\n",
       " 'am',\n",
       " 'enormous',\n",
       " 'pickles',\n",
       " 'in',\n",
       " 'plastic',\n",
       " 'sleeves',\n",
       " 'of',\n",
       " 'juice',\n",
       " 'at',\n",
       " 'every',\n",
       " 'gas',\n",
       " 'station',\n",
       " 'in',\n",
       " 'town',\n",
       " 'what',\n",
       " 'saying',\n",
       " 'is',\n",
       " 'this',\n",
       " 'is',\n",
       " 'a',\n",
       " 'great',\n",
       " 'thing',\n",
       " 'to',\n",
       " 'have',\n",
       " 'as',\n",
       " 'it',\n",
       " 'records',\n",
       " 'what',\n",
       " 'was',\n",
       " 'happening',\n",
       " 'in',\n",
       " 'that',\n",
       " 'time',\n",
       " 'period',\n",
       " 'and',\n",
       " 'also',\n",
       " 'records',\n",
       " 'the',\n",
       " 'day',\n",
       " 'to',\n",
       " 'day',\n",
       " 'life',\n",
       " 'of',\n",
       " 'a',\n",
       " 'family',\n",
       " 'just',\n",
       " 'this',\n",
       " 'side',\n",
       " 'of',\n",
       " 'poor',\n",
       " 'not',\n",
       " 'a',\n",
       " 'war',\n",
       " 'not',\n",
       " 'a',\n",
       " 'huge',\n",
       " 'event',\n",
       " 'just',\n",
       " 'what',\n",
       " 'happens',\n",
       " 'at',\n",
       " 'your',\n",
       " 'average',\n",
       " 'brooklyn',\n",
       " 'pickle',\n",
       " 'place',\n",
       " 'so',\n",
       " 'i',\n",
       " 'get',\n",
       " 'why',\n",
       " 'important',\n",
       " 'but',\n",
       " 'that',\n",
       " 'mean',\n",
       " 'i',\n",
       " 'want',\n",
       " 'to',\n",
       " 'read',\n",
       " 'it',\n",
       " 'my',\n",
       " 'brother',\n",
       " 'would',\n",
       " 'tell',\n",
       " 'you',\n",
       " 'that',\n",
       " 'without',\n",
       " 'casablanca',\n",
       " 'there',\n",
       " 'is',\n",
       " 'no',\n",
       " 'ghostbusters',\n",
       " 'and',\n",
       " 'i',\n",
       " 'disagree',\n",
       " 'with',\n",
       " 'that',\n",
       " 'but',\n",
       " 'i',\n",
       " 'like',\n",
       " 'ghostbusters',\n",
       " 'i',\n",
       " 'like',\n",
       " 'casablanca',\n",
       " 'and',\n",
       " 'with',\n",
       " 'books',\n",
       " 'and',\n",
       " 'movies',\n",
       " 'lucky',\n",
       " 'enough',\n",
       " 'to',\n",
       " 'be',\n",
       " 'in',\n",
       " 'an',\n",
       " 'age',\n",
       " 'where',\n",
       " 'there',\n",
       " 'is',\n",
       " 'more',\n",
       " 'good',\n",
       " 'material',\n",
       " 'out',\n",
       " 'there',\n",
       " 'than',\n",
       " 'people',\n",
       " 'can',\n",
       " 'consume',\n",
       " 'in',\n",
       " 'a',\n",
       " 'lifetime',\n",
       " 'i',\n",
       " 'am',\n",
       " 'wholly',\n",
       " 'convinced',\n",
       " 'that',\n",
       " 'i',\n",
       " 'will',\n",
       " 'never',\n",
       " 'read',\n",
       " 'every',\n",
       " 'book',\n",
       " 'that',\n",
       " 'i',\n",
       " 'would',\n",
       " 'truly',\n",
       " 'enjoy',\n",
       " 'which',\n",
       " 'is',\n",
       " 'messed',\n",
       " 'up',\n",
       " 'really',\n",
       " 'messed',\n",
       " 'up',\n",
       " 'but',\n",
       " 'true',\n",
       " 'and',\n",
       " 'that',\n",
       " 'means',\n",
       " 'really',\n",
       " 'no',\n",
       " 'time',\n",
       " 'to',\n",
       " 'waste',\n",
       " 'on',\n",
       " 'something',\n",
       " 'that',\n",
       " 'though',\n",
       " 'not',\n",
       " 'terrible',\n",
       " 'just',\n",
       " 'doing',\n",
       " 'much',\n",
       " 'for',\n",
       " 'me']"
      ]
     },
     "execution_count": 17,
     "metadata": {},
     "output_type": "execute_result"
    }
   ],
   "source": [
    "X_sequences_filtered[0]"
   ]
  },
  {
   "cell_type": "code",
   "execution_count": 34,
   "id": "2cf4b5ca",
   "metadata": {},
   "outputs": [],
   "source": [
    "X.reset_index(inplace=True, drop=True)"
   ]
  },
  {
   "cell_type": "code",
   "execution_count": 35,
   "id": "7c3c0d88",
   "metadata": {},
   "outputs": [
    {
     "data": {
      "text/plain": [
       "'Well, the tree grows very slowly and with exhaustive detail.\\n\\nCouldn\\'t get through this one. Actually, that\\'s not entirely true. I could have. And I don\\'t mean that in the way of a mountain climber who just couldn\\'t make it to the top and then warps reality by looking back at it. No, it\\'s more like \"couldn\\'t\" as in \"I couldn\\'t eat another hashbrown from my McDonald\\'s breakfast.\" Sure, I COULD have. It just didn\\'t seem worth the pain.\\n\\nI get why this book is a classic, I think. My brother and I argue about this all the time. He feels like it\\'s important to watch a movie like Casablanca because it\\'s historically significant to the medium of film. He makes the point that without Casablanca, there is no Ghostbusters (okay, he doesn\\'t point to Ghostbusters, but he should if he ever wants to get any traction with ME). This book is definitely of interest as a historical document. An historical document(?) You know what, I\\'m not done talking about Ghostbusters, so we better stick with \"a historical document.\"\\n\\nThe book is excruciatingly detailed about day-to-day life in Brooklyn during the early 1900\\'s, down to what they had at the candy store. I shit you not, there\\'s a page and a half describing the purchase of a pickle. The WHY of a pickle purchase. The best practices. The roles played by both seller and buyer. And here I am, enormous pickles in plastic sleeves of juice at every gas station in town.\\n\\nWhat I\\'m saying is, this is a great thing to have as it records what was happening in that time period, and also records the day-to-day life of a family that\\'s just this side of poor. Not a war, not a huge event. Just what happens at your average Brooklyn pickle place.\\n\\nSo I get why it\\'s important, but that doesn\\'t mean I want to read it. My brother would tell you that without Casablanca there is no Ghostbusters, and I can\\'t disagree with that. But I like Ghostbusters. I don\\'t like Casablanca. And with books and movies we\\'re lucky enough to be in an age where there is more good material out there than people can consume in a lifetime. I am wholly convinced that I will never read every book that I would truly enjoy, which is messed up. Really messed up. But it\\'s true, and that means there\\'s really no time to waste on something that, though not terrible, just isn\\'t doing much for me.'"
      ]
     },
     "execution_count": 35,
     "metadata": {},
     "output_type": "execute_result"
    }
   ],
   "source": [
    "X[0]"
   ]
  },
  {
   "cell_type": "code",
   "execution_count": 59,
   "id": "719b9321",
   "metadata": {},
   "outputs": [
    {
     "name": "stdout",
     "output_type": "stream",
     "text": [
      "177 167\n"
     ]
    }
   ],
   "source": [
    "print(len(X_sequences[0]), len(X_sequences_filtered[0]))"
   ]
  },
  {
   "cell_type": "code",
   "execution_count": 41,
   "id": "0a9636f2",
   "metadata": {},
   "outputs": [],
   "source": [
    "def remove_stop_words(word_sequences):\n",
    "    stop_word_removed_sequences = []\n",
    "    for word_sequence in word_sequences:\n",
    "        stop_word_removed_sequence = [w for w in word_sequence if not w in stop_words]\n",
    "        stop_word_removed_sequences.append(stop_word_removed_sequence)\n",
    "    return stop_word_removed_sequences"
   ]
  },
  {
   "cell_type": "code",
   "execution_count": 39,
   "id": "b9657219",
   "metadata": {},
   "outputs": [],
   "source": [
    "stop_words = set(stopwords.words('english'))"
   ]
  },
  {
   "cell_type": "code",
   "execution_count": 60,
   "id": "54aa2b1b",
   "metadata": {},
   "outputs": [],
   "source": [
    "X_stop_words_removed = remove_stop_words(X_sequences_filtered)"
   ]
  },
  {
   "cell_type": "code",
   "execution_count": 61,
   "id": "7840241a",
   "metadata": {},
   "outputs": [
    {
     "name": "stdout",
     "output_type": "stream",
     "text": [
      "177 167 87\n"
     ]
    }
   ],
   "source": [
    "print(len(X_sequences[0]), len(X_sequences_filtered[0]), len(X_stop_words_removed[0]))"
   ]
  },
  {
   "cell_type": "code",
   "execution_count": 62,
   "id": "4382b555",
   "metadata": {},
   "outputs": [],
   "source": [
    "def lemmatize_sequences(word_sequences):\n",
    "    lemmatized_sequences = []\n",
    "    for word_sequence in word_sequences:\n",
    "        verb_lemmatized = [WordNetLemmatizer().lemmatize(word, pos = \"v\") for word in word_sequence]\n",
    "        noun_lemmatized = [WordNetLemmatizer().lemmatize(word, pos = \"n\") for word in verb_lemmatized]\n",
    "        lemmatized_sequences.append(noun_lemmatized)\n",
    "    return lemmatized_sequences"
   ]
  },
  {
   "cell_type": "code",
   "execution_count": 63,
   "id": "45caa81f",
   "metadata": {},
   "outputs": [],
   "source": [
    "X_lemmatized = lemmatize_sequences(X_stop_words_removed)"
   ]
  },
  {
   "cell_type": "code",
   "execution_count": 64,
   "id": "d871e9ed",
   "metadata": {},
   "outputs": [
    {
     "name": "stdout",
     "output_type": "stream",
     "text": [
      "177 167 87 87\n"
     ]
    }
   ],
   "source": [
    "print(len(X_sequences[0]), len(X_sequences_filtered[0]), len(X_stop_words_removed[0]), len(X_lemmatized[0]))"
   ]
  },
  {
   "cell_type": "code",
   "execution_count": 65,
   "id": "26776ee7",
   "metadata": {},
   "outputs": [],
   "source": [
    "for stopw, lemm in zip(X_stop_words_removed, X_lemmatized):\n",
    "    if len(stopw) != len(lemm):\n",
    "        print(X_stop_words_removed.index(stopw))"
   ]
  },
  {
   "cell_type": "markdown",
   "id": "486e5da5",
   "metadata": {},
   "source": [
    "# Preprocessing, model fitting and training"
   ]
  },
  {
   "cell_type": "markdown",
   "id": "3af8a44a",
   "metadata": {},
   "source": [
    "## Writing functions for last bit of preprocessing"
   ]
  },
  {
   "cell_type": "code",
   "execution_count": 66,
   "id": "4a6c8fa7",
   "metadata": {},
   "outputs": [],
   "source": [
    "X_raw = goodreads_df['review text']\n",
    "y = goodreads_df['review score']"
   ]
  },
  {
   "cell_type": "code",
   "execution_count": 6,
   "id": "52087f71",
   "metadata": {},
   "outputs": [],
   "source": [
    "def is_english(word):\n",
    "    for character in word:\n",
    "        if character.isalpha() and unicodedata.name(character).startswith(('LATIN', 'COMMON')):\n",
    "            continue\n",
    "        else:\n",
    "            return False\n",
    "    return True\n",
    "\n",
    "def remove_non_english_words(word_sequences):\n",
    "    filtered_sequences = []\n",
    "    for word_sequence in word_sequences:\n",
    "        filtered = filter(is_english, word_sequence)  \n",
    "        filtered_sequences.append([s for s in filtered])\n",
    "    return filtered_sequences\n",
    "\n",
    "def rejoin_reviews(filtered_sequences):\n",
    "    review_texts = []\n",
    "    for review_sequence in filtered_sequences:\n",
    "        review_texts.append(\" \".join(review_sequence))\n",
    "    return review_texts"
   ]
  },
  {
   "cell_type": "code",
   "execution_count": 7,
   "id": "e0f5502c",
   "metadata": {},
   "outputs": [],
   "source": [
    "from nltk.corpus import stopwords"
   ]
  },
  {
   "cell_type": "code",
   "execution_count": 8,
   "id": "2fa14e0d",
   "metadata": {},
   "outputs": [],
   "source": [
    "stop_words = set(stopwords.words('english'))"
   ]
  },
  {
   "cell_type": "code",
   "execution_count": 9,
   "id": "0be732d7",
   "metadata": {},
   "outputs": [],
   "source": [
    "from nltk.stem import WordNetLemmatizer"
   ]
  },
  {
   "cell_type": "code",
   "execution_count": 10,
   "id": "2146a229",
   "metadata": {},
   "outputs": [],
   "source": [
    "def remove_stop_words(word_sequences):\n",
    "    stop_word_removed_sequences = []\n",
    "    for word_sequence in word_sequences:\n",
    "        stop_word_removed_sequence = [w for w in word_sequence if not w in stop_words]\n",
    "        stop_word_removed_sequences.append(stop_word_removed_sequence)\n",
    "    return stop_word_removed_sequences"
   ]
  },
  {
   "cell_type": "code",
   "execution_count": 11,
   "id": "736da40a",
   "metadata": {},
   "outputs": [],
   "source": [
    "def lemmatize_sequences(word_sequences):\n",
    "    lemmatized_sequences = []\n",
    "    for word_sequence in word_sequences:\n",
    "        verb_lemmatized = [WordNetLemmatizer().lemmatize(word, pos = \"v\") for word in word_sequence]\n",
    "        noun_lemmatized = [WordNetLemmatizer().lemmatize(word, pos = \"n\") for word in verb_lemmatized]\n",
    "        lemmatized_sequences.append(noun_lemmatized)\n",
    "    return lemmatized_sequences"
   ]
  },
  {
   "cell_type": "code",
   "execution_count": 67,
   "id": "de578eda",
   "metadata": {},
   "outputs": [],
   "source": [
    "X_sequences = [text_to_word_sequence(_) for _ in X_raw]\n",
    "X_sequences_filtered = remove_non_english_words(X_sequences)\n",
    "X_stop_words_removed = remove_stop_words(X_sequences_filtered)\n",
    "X_lemmatized = lemmatize_sequences(X_stop_words_removed)\n",
    "X = rejoin_reviews(X_lemmatized)"
   ]
  },
  {
   "cell_type": "code",
   "execution_count": 72,
   "id": "5a16ed47",
   "metadata": {},
   "outputs": [
    {
     "data": {
      "text/plain": [
       "(array([7.192e+03, 2.922e+03, 9.060e+02, 3.710e+02, 1.490e+02, 6.100e+01,\n",
       "        3.700e+01, 3.200e+01, 9.000e+00, 4.000e+00]),\n",
       " array([   0. ,  173.5,  347. ,  520.5,  694. ,  867.5, 1041. , 1214.5,\n",
       "        1388. , 1561.5, 1735. ]),\n",
       " <BarContainer object of 10 artists>)"
      ]
     },
     "execution_count": 72,
     "metadata": {},
     "output_type": "execute_result"
    },
    {
     "data": {
      "image/png": "[encoded data removed]",
      "text/plain": [
       "<Figure size 640x480 with 1 Axes>"
      ]
     },
     "metadata": {},
     "output_type": "display_data"
    }
   ],
   "source": [
    "new_lengths = [len(review_sequence) for review_sequence in X_lemmatized]\n",
    "plt.hist(new_lengths, bins=10)"
   ]
  },
  {
   "cell_type": "code",
   "execution_count": 76,
   "id": "3ac83193",
   "metadata": {},
   "outputs": [],
   "source": [
    "X_train, X_test, y_train, y_test = \\\n",
    "    train_test_split(X, y, test_size=0.20, random_state=1)"
   ]
  },
  {
   "cell_type": "code",
   "execution_count": 77,
   "id": "5326b56d",
   "metadata": {},
   "outputs": [],
   "source": [
    "num_words=10000\n",
    "tokenizer = Tokenizer(num_words=num_words)\n",
    "tokenizer.fit_on_texts(X_train)"
   ]
  },
  {
   "cell_type": "code",
   "execution_count": 78,
   "id": "b951033a",
   "metadata": {},
   "outputs": [],
   "source": [
    "X_train_token = tokenizer.texts_to_sequences(X_train)\n",
    "X_test_token = tokenizer.texts_to_sequences(X_test)"
   ]
  },
  {
   "cell_type": "code",
   "execution_count": 79,
   "id": "c3aab7b1",
   "metadata": {},
   "outputs": [],
   "source": [
    "X_train_pad = pad_sequences(X_train_token, dtype='float32', padding='pre', maxlen=200, truncating='pre')\n",
    "X_test_pad = pad_sequences(X_test_token, dtype='float32', padding='pre', maxlen=200, truncating='pre')\n",
    "\n",
    "# Changed this to 200 maxlen to see if it speeds up runtime"
   ]
  },
  {
   "cell_type": "markdown",
   "id": "425e1a85",
   "metadata": {},
   "source": [
    "## Now constructing, fitting and training the RNN"
   ]
  },
  {
   "cell_type": "code",
   "execution_count": 80,
   "id": "6c1d4820",
   "metadata": {},
   "outputs": [
    {
     "data": {
      "text/plain": [
       "42082"
      ]
     },
     "execution_count": 80,
     "metadata": {},
     "output_type": "execute_result"
    }
   ],
   "source": [
    "vocab_size = len(tokenizer.word_index)\n",
    "vocab_size"
   ]
  },
  {
   "cell_type": "code",
   "execution_count": 81,
   "id": "be0b58a8",
   "metadata": {},
   "outputs": [],
   "source": [
    "embedding_dimension = 50\n",
    "\n",
    "model = Sequential()\n",
    "model.add(layers.Embedding(input_dim=vocab_size + 1, output_dim=embedding_dimension, mask_zero=True))\n",
    "model.add(layers.LSTM(20))\n",
    "model.add(layers.Dense(10, activation=\"relu\"))\n",
    "model.add(layers.Dense(1, activation=\"linear\"))\n",
    "\n",
    "model.compile(loss='mean_squared_error', optimizer='adam', metrics=['mae'])"
   ]
  },
  {
   "cell_type": "code",
   "execution_count": 82,
   "id": "7d828b69",
   "metadata": {},
   "outputs": [
    {
     "name": "stdout",
     "output_type": "stream",
     "text": [
      "Model: \"sequential\"\n",
      "_________________________________________________________________\n",
      " Layer (type)                Output Shape              Param #   \n",
      "=================================================================\n",
      " embedding (Embedding)       (None, None, 50)          2104150   \n",
      "                                                                 \n",
      " lstm (LSTM)                 (None, 20)                5680      \n",
      "                                                                 \n",
      " dense (Dense)               (None, 10)                210       \n",
      "                                                                 \n",
      " dense_1 (Dense)             (None, 1)                 11        \n",
      "                                                                 \n",
      "=================================================================\n",
      "Total params: 2,110,051\n",
      "Trainable params: 2,110,051\n",
      "Non-trainable params: 0\n",
      "_________________________________________________________________\n"
     ]
    }
   ],
   "source": [
    "model.summary()"
   ]
  },
  {
   "cell_type": "code",
   "execution_count": 83,
   "id": "51476ade",
   "metadata": {},
   "outputs": [
    {
     "name": "stdout",
     "output_type": "stream",
     "text": [
      "Epoch 1/20\n",
      "205/205 [==============================] - 37s 160ms/step - loss: 4.8633 - mae: 1.7088 - val_loss: 1.8060 - val_mae: 1.0225\n",
      "Epoch 2/20\n",
      "205/205 [==============================] - 30s 147ms/step - loss: 1.6462 - mae: 0.9941 - val_loss: 1.7152 - val_mae: 1.0273\n",
      "Epoch 3/20\n",
      "205/205 [==============================] - 30s 146ms/step - loss: 1.4525 - mae: 0.9419 - val_loss: 1.6583 - val_mae: 1.0019\n",
      "Epoch 4/20\n",
      "205/205 [==============================] - 30s 144ms/step - loss: 1.0864 - mae: 0.8019 - val_loss: 1.4409 - val_mae: 0.9010\n",
      "Epoch 5/20\n",
      "205/205 [==============================] - 29s 143ms/step - loss: 0.7150 - mae: 0.6398 - val_loss: 1.4412 - val_mae: 0.9017\n",
      "Epoch 6/20\n",
      "205/205 [==============================] - 31s 149ms/step - loss: 0.5091 - mae: 0.5421 - val_loss: 1.4577 - val_mae: 0.8883\n",
      "Epoch 7/20\n",
      "205/205 [==============================] - 31s 149ms/step - loss: 0.3889 - mae: 0.4719 - val_loss: 1.5289 - val_mae: 0.9245\n",
      "Epoch 8/20\n",
      "205/205 [==============================] - 31s 150ms/step - loss: 0.3124 - mae: 0.4176 - val_loss: 1.5125 - val_mae: 0.8929\n",
      "Epoch 9/20\n",
      "205/205 [==============================] - 31s 150ms/step - loss: 0.2532 - mae: 0.3688 - val_loss: 1.5842 - val_mae: 0.9299\n"
     ]
    },
    {
     "data": {
      "text/plain": [
       "<keras.callbacks.History at 0x7f1b104ee890>"
      ]
     },
     "execution_count": 83,
     "metadata": {},
     "output_type": "execute_result"
    }
   ],
   "source": [
    "es = EarlyStopping(patience=5, restore_best_weights=True)\n",
    "\n",
    "model.fit(X_train_pad, y_train, \n",
    "          epochs=20, \n",
    "          batch_size=32, # higher batch size than optimal to speed up testing\n",
    "          validation_split=0.3,\n",
    "          callbacks=[es]\n",
    "         )"
   ]
  },
  {
   "cell_type": "markdown",
   "id": "6a4ae207",
   "metadata": {},
   "source": [
    "## Baseline for comparison"
   ]
  },
  {
   "cell_type": "code",
   "execution_count": 84,
   "id": "90c502a8",
   "metadata": {},
   "outputs": [],
   "source": [
    "from sklearn.metrics import mean_squared_error, mean_absolute_error"
   ]
  },
  {
   "cell_type": "code",
   "execution_count": 85,
   "id": "5caf4314",
   "metadata": {},
   "outputs": [
    {
     "data": {
      "text/plain": [
       "5    4491\n",
       "4    2490\n",
       "3     962\n",
       "1     781\n",
       "2     622\n",
       "Name: review score, dtype: int64"
      ]
     },
     "execution_count": 85,
     "metadata": {},
     "output_type": "execute_result"
    }
   ],
   "source": [
    "y_train.value_counts()"
   ]
  },
  {
   "cell_type": "code",
   "execution_count": 92,
   "id": "87f3f15d",
   "metadata": {},
   "outputs": [
    {
     "data": {
      "text/plain": [
       "(array([ 781.,  622.,  962., 2490., 4491.]),\n",
       " array([1. , 1.8, 2.6, 3.4, 4.2, 5. ]),\n",
       " <BarContainer object of 5 artists>)"
      ]
     },
     "execution_count": 92,
     "metadata": {},
     "output_type": "execute_result"
    },
    {
     "data": {
      "image/png": "[encoded data removed]",
      "text/plain": [
       "<Figure size 640x480 with 1 Axes>"
      ]
     },
     "metadata": {},
     "output_type": "display_data"
    }
   ],
   "source": [
    "plt.hist(y_train, bins=5)"
   ]
  },
  {
   "cell_type": "code",
   "execution_count": null,
   "id": "5952224d",
   "metadata": {},
   "outputs": [],
   "source": [
    "y_train.shape"
   ]
  },
  {
   "cell_type": "code",
   "execution_count": 93,
   "id": "99a25287",
   "metadata": {},
   "outputs": [],
   "source": [
    "baseline_predictions = [5]*len(y_test)"
   ]
  },
  {
   "cell_type": "code",
   "execution_count": 94,
   "id": "4e6bf890",
   "metadata": {},
   "outputs": [
    {
     "data": {
      "text/plain": [
       "2.7248609328198543"
      ]
     },
     "execution_count": 94,
     "metadata": {},
     "output_type": "execute_result"
    }
   ],
   "source": [
    "baseline_mse_score = mean_squared_error(y_test, baseline_predictions)\n",
    "baseline_mse_score"
   ]
  },
  {
   "cell_type": "code",
   "execution_count": 95,
   "id": "eefc911e",
   "metadata": {},
   "outputs": [
    {
     "data": {
      "text/plain": [
       "1.0500641848523748"
      ]
     },
     "execution_count": 95,
     "metadata": {},
     "output_type": "execute_result"
    }
   ],
   "source": [
    "baseline_mae_score = mean_absolute_error(y_test, baseline_predictions)\n",
    "baseline_mae_score"
   ]
  },
  {
   "cell_type": "markdown",
   "id": "f74bffba",
   "metadata": {},
   "source": [
    "## Evaluate model on test set"
   ]
  },
  {
   "cell_type": "code",
   "execution_count": 96,
   "id": "6aff3400",
   "metadata": {},
   "outputs": [
    {
     "name": "stdout",
     "output_type": "stream",
     "text": [
      "74/74 [==============================] - 2s 27ms/step - loss: 1.5088 - mae: 0.9335\n"
     ]
    },
    {
     "data": {
      "text/plain": [
       "[1.5088489055633545, 0.9334921836853027]"
      ]
     },
     "execution_count": 96,
     "metadata": {},
     "output_type": "execute_result"
    }
   ],
   "source": [
    "model.evaluate(X_test_pad, y_test)"
   ]
  },
  {
   "cell_type": "code",
   "execution_count": 97,
   "id": "102357bb",
   "metadata": {},
   "outputs": [
    {
     "data": {
      "text/plain": [
       "[2.7248609328198543, 1.0500641848523748]"
      ]
     },
     "execution_count": 97,
     "metadata": {},
     "output_type": "execute_result"
    }
   ],
   "source": [
    "[baseline_mse_score, baseline_mae_score]"
   ]
  }
 ],
 "metadata": {
  "kernelspec": {
   "display_name": "Python 3 (ipykernel)",
   "language": "python",
   "name": "python3"
  },
  "language_info": {
   "codemirror_mode": {
    "name": "ipython",
    "version": 3
   },
   "file_extension": ".py",
   "mimetype": "text/x-python",
   "name": "python",
   "nbconvert_exporter": "python",
   "pygments_lexer": "ipython3",
   "version": "3.10.6"
  },
  "toc": {
   "base_numbering": 1,
   "nav_menu": {},
   "number_sections": true,
   "sideBar": true,
   "skip_h1_title": false,
   "title_cell": "Table of Contents",
   "title_sidebar": "Contents",
   "toc_cell": false,
   "toc_position": {},
   "toc_section_display": true,
   "toc_window_display": false
  }
 },
 "nbformat": 4,
 "nbformat_minor": 5
}
