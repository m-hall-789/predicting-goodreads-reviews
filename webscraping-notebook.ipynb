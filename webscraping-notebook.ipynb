{
 "cells": [
  {
   "cell_type": "markdown",
   "id": "2de3a849",
   "metadata": {},
   "source": [
    "# Webscraping Notebook"
   ]
  },
  {
   "cell_type": "markdown",
   "id": "5b40f45c",
   "metadata": {},
   "source": [
    "## Installs"
   ]
  },
  {
   "cell_type": "code",
   "execution_count": 1,
   "id": "6b520461",
   "metadata": {},
   "outputs": [],
   "source": [
    "%load_ext autoreload\n",
    "%autoreload 2"
   ]
  },
  {
   "cell_type": "code",
   "execution_count": 3,
   "id": "92b478bf",
   "metadata": {},
   "outputs": [],
   "source": [
    "import requests\n",
    "from bs4 import BeautifulSoup"
   ]
  },
  {
   "cell_type": "markdown",
   "id": "e51dcea6",
   "metadata": {},
   "source": [
    "## Scrape list of books and urls "
   ]
  },
  {
   "cell_type": "code",
   "execution_count": 7,
   "id": "40be6c21",
   "metadata": {},
   "outputs": [
    {
     "data": {
      "text/plain": [
       "'https://www.goodreads.com/shelf/show/fiction?page=1'"
      ]
     },
     "execution_count": 7,
     "metadata": {},
     "output_type": "execute_result"
    }
   ],
   "source": [
    "page=\"1\"\n",
    "url=\"https://www.goodreads.com/shelf/show/fiction?page=\" + page\n",
    "url"
   ]
  },
  {
   "cell_type": "code",
   "execution_count": 46,
   "id": "4d43aced",
   "metadata": {},
   "outputs": [],
   "source": [
    "response=requests.get(url)\n",
    "soup = BeautifulSoup(response.content, \"html.parser\")"
   ]
  },
  {
   "cell_type": "code",
   "execution_count": 50,
   "id": "ef5df23f",
   "metadata": {},
   "outputs": [],
   "source": [
    "book_titles = [book.text.strip() for book in soup.find_all('a', class_='bookTitle')]"
   ]
  },
  {
   "cell_type": "code",
   "execution_count": 51,
   "id": "d0c48993",
   "metadata": {},
   "outputs": [
    {
     "data": {
      "text/plain": [
       "50"
      ]
     },
     "execution_count": 51,
     "metadata": {},
     "output_type": "execute_result"
    }
   ],
   "source": [
    "len(book_titles)"
   ]
  },
  {
   "cell_type": "code",
   "execution_count": 52,
   "id": "5eb4f248",
   "metadata": {},
   "outputs": [
    {
     "data": {
      "text/plain": [
       "'To Kill a Mockingbird (Paperback)'"
      ]
     },
     "execution_count": 52,
     "metadata": {},
     "output_type": "execute_result"
    }
   ],
   "source": [
    "book_titles[1]"
   ]
  },
  {
   "cell_type": "code",
   "execution_count": 58,
   "id": "99c29853",
   "metadata": {},
   "outputs": [],
   "source": [
    "tkamb_title = book_titles[1]"
   ]
  },
  {
   "cell_type": "code",
   "execution_count": 53,
   "id": "e0e87385",
   "metadata": {},
   "outputs": [],
   "source": [
    "book_urls = ['https://www.goodreads.com' + book['href'] for book in soup.find_all('a', class_='bookTitle')]"
   ]
  },
  {
   "cell_type": "code",
   "execution_count": 54,
   "id": "d86d388c",
   "metadata": {},
   "outputs": [
    {
     "data": {
      "text/plain": [
       "50"
      ]
     },
     "execution_count": 54,
     "metadata": {},
     "output_type": "execute_result"
    }
   ],
   "source": [
    "len(books)"
   ]
  },
  {
   "cell_type": "code",
   "execution_count": 55,
   "id": "3e0c8e25",
   "metadata": {
    "scrolled": true
   },
   "outputs": [
    {
     "data": {
      "text/plain": [
       "'https://www.goodreads.com/book/show/2657.To_Kill_a_Mockingbird'"
      ]
     },
     "execution_count": 55,
     "metadata": {},
     "output_type": "execute_result"
    }
   ],
   "source": [
    "books[1]"
   ]
  },
  {
   "cell_type": "markdown",
   "id": "4b2a82cb",
   "metadata": {},
   "source": [
    "## Get top reviews for each book"
   ]
  },
  {
   "cell_type": "code",
   "execution_count": 23,
   "id": "d41938a3",
   "metadata": {},
   "outputs": [],
   "source": [
    "response=requests.get(books[1])\n",
    "soup = BeautifulSoup(response.content, \"html.parser\")"
   ]
  },
  {
   "cell_type": "code",
   "execution_count": 24,
   "id": "aafd1d0a",
   "metadata": {},
   "outputs": [
    {
     "data": {
      "text/plain": [
       "bs4.BeautifulSoup"
      ]
     },
     "execution_count": 24,
     "metadata": {},
     "output_type": "execute_result"
    }
   ],
   "source": [
    "type(soup)"
   ]
  },
  {
   "cell_type": "code",
   "execution_count": 25,
   "id": "ae1c50b8",
   "metadata": {},
   "outputs": [
    {
     "data": {
      "text/plain": [
       "30"
      ]
     },
     "execution_count": 25,
     "metadata": {},
     "output_type": "execute_result"
    }
   ],
   "source": [
    "len(soup.find_all('section', 'ReviewText'))"
   ]
  },
  {
   "cell_type": "code",
   "execution_count": 29,
   "id": "f9c82596",
   "metadata": {},
   "outputs": [
    {
     "data": {
      "text/plain": [
       "30"
      ]
     },
     "execution_count": 29,
     "metadata": {},
     "output_type": "execute_result"
    }
   ],
   "source": [
    "len(soup.find_all('article', 'ReviewCard'))"
   ]
  },
  {
   "cell_type": "code",
   "execution_count": 30,
   "id": "2bee04a8",
   "metadata": {},
   "outputs": [],
   "source": [
    "review_containers = soup.find_all('article', 'ReviewCard')\n",
    "reviews = []\n",
    "for container in review_containers:\n",
    "    review_text = container.find('section', 'ReviewText').text.strip()\n",
    "    reviews.append(review_text)"
   ]
  },
  {
   "cell_type": "code",
   "execution_count": 31,
   "id": "7fbeedd3",
   "metadata": {},
   "outputs": [
    {
     "data": {
      "text/plain": [
       "30"
      ]
     },
     "execution_count": 31,
     "metadata": {},
     "output_type": "execute_result"
    }
   ],
   "source": [
    "len(reviews)"
   ]
  },
  {
   "cell_type": "code",
   "execution_count": 32,
   "id": "7366e560",
   "metadata": {},
   "outputs": [
    {
     "data": {
      "text/plain": [
       "str"
      ]
     },
     "execution_count": 32,
     "metadata": {},
     "output_type": "execute_result"
    }
   ],
   "source": [
    "type(reviews[1])"
   ]
  },
  {
   "cell_type": "code",
   "execution_count": 34,
   "id": "0474dcc4",
   "metadata": {
    "scrolled": true
   },
   "outputs": [
    {
     "data": {
      "text/plain": [
       "'/// gentle reminder that this is not the time to read this book ///This is my first re-read of 2017, and I don\\'t regret it one bit. When I first read this book three years ago, I really liked it. Sadly, I didn\\'t write my thoughts down in an elaborate way back in the day, but I know for sure, that I didn\\'t read critically then. Upon my re-read of this book, I honestly don\\'t have good things to say. I am aware that some of my criticism is not a critique of the book itself, but about its perception, and how it is, up to this day, held up as the one true book about race relations in the United States of America.And that really infiruates me. This book was written by a white woman, from a white perspective, about white characters, for a white audience. This book is a pat on the back for the white middle class. This book gives comfort to the white middle class. Comfort that they, especially back in the 1960s, didn\\'t need, and allow me to be so bold, didn\\'t deserve. Harper Lee\\'s focus is purely white. While the white characters in this book are the subjects, who take action into their own hands, who suffer and make sacrifices, the Black characters in this book are objects. They have little to no agency. Things happen to them. They are harmless, defenseless, and just there – waiting for the white knight hero, Atticus Finch, to save them. This book is a disgrace in the face of the Black liberation movements that existed back in the day, and the solidarity within Black communities. Black people stood up for themselves and fought for their rights, and only due to their voices, their protests, their sit-ins, their marches, their demonstrations, their conferences, was racial segregation made unconstitutional in the United States.Black people, back then and now, know that Atticus Finch doesn\\'t exist. And because no one put in better words than the one and only James Baldwin, I will quote a passage from one of his amazing interviews on the Dick Cavett Show in 1968. One could say that this is Baldwin\\'s response to the cry of \"not all white people\": James Baldwin: I don\\'t know what most white people in this country feel. But I can only conclude what they feel from the state of their institutions. I don\\'t know if white Christians hate Negroes or not, but I know we have a Christian church which is white and a Christian church which is black. That says a great deal for me about a Christian nation. [...] I don\\'t know whether the labor unions and their bosses really hate me - that doesn\\'t matter - but I know I\\'m not [allowed] in their union. I don\\'t know whether the real estate lobby has anything against black people, but I know the real estate lobby is keeping me in the ghetto. I don\\'t know if the board of education hates black people, but I know the textbooks they give my children to read and the schools we have to go to. Now, this is the evidence. You want me to make an act of faith, risking myself, my wife, my woman, my sister, my children on some idealism which you assure me exists in America, which I have never seen.This right here is what I\\'m talking about. To Kill A Mockingbird plays into this idealism. Although the book touches on the horrors of racism in the Deep South, it’s a strangely comforting read. A terrible injustice is done, but at the end the status quo is reassuringly restored. The final message is that most (white) people are nice when you get to know them. As a reader you are never allowed to feel with Tom Robinson, the Black man who is innocently convicted for raping a white woman, because all the Black characters in this tale are sidelined. This story should be about them, because how else would you be able to convince the white moderate (in the 1960s) that Black people are actually people. The closest insight we get to a Black character is the family\\'s cook Calpurnia. Calpurnia is in the fictional tradition of the \"happy black\", the contented slave – the descendent of the ever-loyal Mammy in Gone With the Wind. And the rest of the Black community is depicted as a group of simple, respectful folk – passive and helpless and all touchingly grateful to Atticus Finch – the white saviour. We never see any of them angry or upset. We never see the effect of Tom Robinson’s death on his family up close – we don\\'t witness Helen, Tom\\'s wife, grieving and Scout never wonders about his children. Their distress is kept at safe distance from the reader.I was very angry after finishing this book, and I\\'m still angry up to this day. Not necessarily at Harper Lee, but at our society as a whole, and at our educational system. Why do we constantly uplift white narratives, whilst brushing over marginalized ones? Why aren\\'t our kids reading If Beale Street Could Talk by James Baldwin – a book dealing with the exact same topic (a Black man getting falsely accused of raping a woman)? Why isn\\'t Lorraine Hansberry required reading? Why are we still relying on white narratives, when talking about Black people and their struggles?Since finishing this book, I started reading The History of Legal Education in the United States and I wanted to share some interesting facts, because I couldn\\'t believe how absurd To Kill A Mockingbird was. This story is, supposedly, set in the Deep South in the 1930s, where Atticus Finch, our white saviour, takes it upon himself to defend a Black man at court. By the end of Lee\\'s novel we are led to believe that Atticus had a great chance of actually getting Tom Robinson acquitted, if the latter had just been a \"good n*gger\" and didn\\'t try to escape on his own. (Yes, I\\'m a little petty. I swear, I\\'m not turning bitter over this.) So, I just wanted to know how realistic that scenario is. All of the information is related to the 1930s Southern setting. Here\\'s what I\\'ve learned:Most Southern lawyers readily accepted Black clients for routine economic cases – property, tort, contract, dept, insurance – and minor criminal cases that did not threaten the South\\'s system of racial hierarchy. It was virtually impossible, however, to find a Southern white lawyer who would accept a major criminal case involving a white victim or a politically charged case that in any way challenged segregation. Only the combination of direct action, community organizing and legal strategy with the help of Black lawyers, made the defense of Black men and women at court possible. In the Lockett-case, the Black community in Tulsa survived largely because Black lawyers were able to defend the community\\'s interests. In 1934, Black lawyers represented George Crawford, a Black man accused of brutally murdering a wealthy white woman – no white lawyer would take Crawford\\'s case. In the end, Crawford got a sentence of life imprisonment instead of a death sentence. And this verdict had to be seen as an accomplishment by the Black lawyers and the Black community as a whole, because life imprisonment was as good as it was going to get. Oftentimes, Black lawyers took serious criminal cases without a fee or at a very reduced rate. This was well appreciated by their communities, but also a given. It is admirable how well Black communities were organized. None of that got translated on the pages of Lee\\'s novel. The Black characters do absolutely nothing, except sending Atticus food, because they\\'re so grateful. [*insert snort here*]This book appears to uphold the standard of racial equality; de facto it is about the white middle class patting themselves on the back for not thinking racist thoughts. I\\'m sorry to break it to you, Miss Maudie, but you won\\'t get a sugar cookie for that. I am not saying that this is not a realistic portrayal of the white middle class, it is, it totally is. If you do just a little research on the Civil Rights movement, the moral apathy of the white middle class becomes crystal clear. However, we shouldn\\'t portray these characters in a positive light, there is nothing admirable about them. After all... He who passively accepts evil is as much involved in it as he who helps to perpetrate it. He who accepts evil without protesting against is really cooperating with it.- Martin Luther King, Jr.'"
      ]
     },
     "execution_count": 34,
     "metadata": {},
     "output_type": "execute_result"
    }
   ],
   "source": [
    "reviews[0]"
   ]
  },
  {
   "cell_type": "code",
   "execution_count": 44,
   "id": "3f048f6f",
   "metadata": {},
   "outputs": [],
   "source": [
    "tkamb_reviews = reviews.copy()"
   ]
  },
  {
   "cell_type": "markdown",
   "id": "9f82449f",
   "metadata": {},
   "source": [
    "## Get the average rating"
   ]
  },
  {
   "cell_type": "code",
   "execution_count": 36,
   "id": "11055ca8",
   "metadata": {},
   "outputs": [],
   "source": [
    "rating = soup.find('div', 'RatingStatistics__column')[\"aria-label\"]"
   ]
  },
  {
   "cell_type": "code",
   "execution_count": 37,
   "id": "42e647de",
   "metadata": {},
   "outputs": [
    {
     "data": {
      "text/plain": [
       "'Average rating of 4.27 stars.'"
      ]
     },
     "execution_count": 37,
     "metadata": {},
     "output_type": "execute_result"
    }
   ],
   "source": [
    "rating"
   ]
  },
  {
   "cell_type": "code",
   "execution_count": 40,
   "id": "ab0ef7c9",
   "metadata": {},
   "outputs": [
    {
     "data": {
      "text/plain": [
       "4.27"
      ]
     },
     "execution_count": 40,
     "metadata": {},
     "output_type": "execute_result"
    }
   ],
   "source": [
    "float(rating[18:22])"
   ]
  },
  {
   "cell_type": "code",
   "execution_count": 43,
   "id": "435c7bdc",
   "metadata": {},
   "outputs": [],
   "source": [
    "tkamb_rating = float(rating[18:22])"
   ]
  },
  {
   "cell_type": "markdown",
   "id": "5f558316",
   "metadata": {},
   "source": [
    "## Saving title, rating, and 30 reviews together in a class"
   ]
  },
  {
   "cell_type": "code",
   "execution_count": 57,
   "id": "eb522f9e",
   "metadata": {},
   "outputs": [],
   "source": [
    "class BookInfo:\n",
    "    def __init__(self, rating, reviews, title):\n",
    "        self.title = title\n",
    "        self.rating = rating\n",
    "        self.reviews = reviews\n",
    "    \n",
    "    def get_title(self):\n",
    "        return self.title\n",
    "    def get_rating(self):\n",
    "        return self.rating\n",
    "    def get_reviews(self):\n",
    "        return self.reviews"
   ]
  },
  {
   "cell_type": "code",
   "execution_count": 59,
   "id": "ce5e7f63",
   "metadata": {},
   "outputs": [],
   "source": [
    "book1 = BookInfo(rating=tkamb_rating, reviews=tkamb_reviews, title=tkamb_title)"
   ]
  },
  {
   "cell_type": "code",
   "execution_count": 61,
   "id": "084c385e",
   "metadata": {},
   "outputs": [
    {
     "data": {
      "text/plain": [
       "4.27"
      ]
     },
     "execution_count": 61,
     "metadata": {},
     "output_type": "execute_result"
    }
   ],
   "source": [
    "book1.get_rating()"
   ]
  }
 ],
 "metadata": {
  "kernelspec": {
   "display_name": "Python 3 (ipykernel)",
   "language": "python",
   "name": "python3"
  },
  "language_info": {
   "codemirror_mode": {
    "name": "ipython",
    "version": 3
   },
   "file_extension": ".py",
   "mimetype": "text/x-python",
   "name": "python",
   "nbconvert_exporter": "python",
   "pygments_lexer": "ipython3",
   "version": "3.10.6"
  }
 },
 "nbformat": 4,
 "nbformat_minor": 5
}
