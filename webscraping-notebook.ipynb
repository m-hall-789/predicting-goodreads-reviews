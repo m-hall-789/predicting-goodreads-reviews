{
 "cells": [
  {
   "cell_type": "markdown",
   "id": "63ea2376",
   "metadata": {},
   "source": [
    "# Webscraping Notebook"
   ]
  },
  {
   "cell_type": "markdown",
   "id": "2ee76c27",
   "metadata": {},
   "source": [
    "## Installs"
   ]
  },
  {
   "cell_type": "code",
   "execution_count": null,
   "id": "5b8ffcc5",
   "metadata": {},
   "outputs": [],
   "source": [
    "%load_ext autoreload\n",
    "%autoreload 2"
   ]
  },
  {
   "cell_type": "code",
   "execution_count": null,
   "id": "dbc13b46",
   "metadata": {},
   "outputs": [],
   "source": [
    "import requests\n",
    "from bs4 import BeautifulSoup\n",
    "import math\n",
    "import numpy as np\n",
    "import pandas as pd"
   ]
  },
  {
   "cell_type": "markdown",
   "id": "e0157087",
   "metadata": {
    "heading_collapsed": true
   },
   "source": [
    "## Scrape list of books and urls "
   ]
  },
  {
   "cell_type": "code",
   "execution_count": null,
   "id": "ec8ed330",
   "metadata": {
    "hidden": true
   },
   "outputs": [],
   "source": [
    "page=\"1\"\n",
    "url=\"https://www.goodreads.com/shelf/show/fiction?page=\" + page\n",
    "url"
   ]
  },
  {
   "cell_type": "code",
   "execution_count": null,
   "id": "2a703223",
   "metadata": {
    "hidden": true
   },
   "outputs": [],
   "source": [
    "response=requests.get(url)\n",
    "soup = BeautifulSoup(response.content, \"html.parser\")"
   ]
  },
  {
   "cell_type": "code",
   "execution_count": null,
   "id": "dfdd381c",
   "metadata": {
    "hidden": true
   },
   "outputs": [],
   "source": [
    "book_titles = [book.text.strip() for book in soup.find_all('a', class_='bookTitle')]"
   ]
  },
  {
   "cell_type": "code",
   "execution_count": null,
   "id": "6c9129dc",
   "metadata": {
    "hidden": true
   },
   "outputs": [],
   "source": [
    "len(book_titles)"
   ]
  },
  {
   "cell_type": "code",
   "execution_count": null,
   "id": "80393ec9",
   "metadata": {
    "hidden": true
   },
   "outputs": [],
   "source": [
    "book_titles[1]"
   ]
  },
  {
   "cell_type": "code",
   "execution_count": null,
   "id": "7b286296",
   "metadata": {
    "hidden": true
   },
   "outputs": [],
   "source": [
    "tkamb_title = book_titles[1]"
   ]
  },
  {
   "cell_type": "code",
   "execution_count": null,
   "id": "eea31da6",
   "metadata": {
    "hidden": true
   },
   "outputs": [],
   "source": [
    "book_urls = ['https://www.goodreads.com' + book['href'] for book in soup.find_all('a', class_='bookTitle')]"
   ]
  },
  {
   "cell_type": "code",
   "execution_count": null,
   "id": "124a6602",
   "metadata": {
    "hidden": true
   },
   "outputs": [],
   "source": [
    "len(books)"
   ]
  },
  {
   "cell_type": "code",
   "execution_count": null,
   "id": "eee29ad6",
   "metadata": {
    "hidden": true,
    "scrolled": true
   },
   "outputs": [],
   "source": [
    "books[1]"
   ]
  },
  {
   "cell_type": "markdown",
   "id": "0ca2d87b",
   "metadata": {},
   "source": [
    "## Get top reviews for each book"
   ]
  },
  {
   "cell_type": "code",
   "execution_count": null,
   "id": "8ecbe37b",
   "metadata": {},
   "outputs": [],
   "source": [
    "response=requests.get(books[1])\n",
    "soup = BeautifulSoup(response.content, \"html.parser\")"
   ]
  },
  {
   "cell_type": "code",
   "execution_count": null,
   "id": "fd654093",
   "metadata": {},
   "outputs": [],
   "source": [
    "type(soup)"
   ]
  },
  {
   "cell_type": "code",
   "execution_count": null,
   "id": "7cadd26e",
   "metadata": {},
   "outputs": [],
   "source": [
    "len(soup.find_all('section', 'ReviewText'))"
   ]
  },
  {
   "cell_type": "code",
   "execution_count": null,
   "id": "a49e98dd",
   "metadata": {},
   "outputs": [],
   "source": [
    "len(soup.find_all('article', 'ReviewCard'))"
   ]
  },
  {
   "cell_type": "code",
   "execution_count": null,
   "id": "5538d744",
   "metadata": {},
   "outputs": [],
   "source": [
    "review_containers = soup.find_all('article', 'ReviewCard')\n",
    "reviews = []\n",
    "for container in review_containers:\n",
    "    review_text = container.find('section', 'ReviewText').text.strip()\n",
    "    reviews.append(review_text)"
   ]
  },
  {
   "cell_type": "code",
   "execution_count": null,
   "id": "deecd555",
   "metadata": {},
   "outputs": [],
   "source": [
    "len(reviews)"
   ]
  },
  {
   "cell_type": "code",
   "execution_count": null,
   "id": "740ce156",
   "metadata": {},
   "outputs": [],
   "source": [
    "type(reviews[1])"
   ]
  },
  {
   "cell_type": "code",
   "execution_count": null,
   "id": "4141af28",
   "metadata": {
    "scrolled": true
   },
   "outputs": [],
   "source": [
    "reviews[0]"
   ]
  },
  {
   "cell_type": "code",
   "execution_count": null,
   "id": "adf36cc9",
   "metadata": {},
   "outputs": [],
   "source": [
    "tkamb_reviews = reviews.copy()"
   ]
  },
  {
   "cell_type": "markdown",
   "id": "81a7bbfc",
   "metadata": {},
   "source": [
    "## Get the average rating and title"
   ]
  },
  {
   "cell_type": "code",
   "execution_count": null,
   "id": "39d54f7e",
   "metadata": {},
   "outputs": [],
   "source": [
    "rating = soup.find('div', 'RatingStatistics__column')[\"aria-label\"]"
   ]
  },
  {
   "cell_type": "code",
   "execution_count": null,
   "id": "2f6c3515",
   "metadata": {},
   "outputs": [],
   "source": [
    "rating"
   ]
  },
  {
   "cell_type": "code",
   "execution_count": null,
   "id": "817e91e5",
   "metadata": {},
   "outputs": [],
   "source": [
    "float(rating[18:22])"
   ]
  },
  {
   "cell_type": "code",
   "execution_count": null,
   "id": "0181fb88",
   "metadata": {},
   "outputs": [],
   "source": [
    "book_rating = float(rating[18:22])"
   ]
  },
  {
   "cell_type": "code",
   "execution_count": null,
   "id": "ad226782",
   "metadata": {},
   "outputs": [],
   "source": [
    "book_title = soup.select('h1', class_='Text Text__Title1')[0].text"
   ]
  },
  {
   "cell_type": "markdown",
   "id": "b8d17051",
   "metadata": {},
   "source": [
    "## Saving data into dataframe"
   ]
  },
  {
   "cell_type": "code",
   "execution_count": null,
   "id": "901672d3",
   "metadata": {},
   "outputs": [],
   "source": [
    "print(book_urls[0])"
   ]
  },
  {
   "cell_type": "code",
   "execution_count": null,
   "id": "91dcdc2e",
   "metadata": {},
   "outputs": [],
   "source": [
    "response=requests.get(book_urls[0])\n",
    "soup = BeautifulSoup(response.content, \"html.parser\")"
   ]
  },
  {
   "cell_type": "code",
   "execution_count": null,
   "id": "7603f5e4",
   "metadata": {},
   "outputs": [],
   "source": [
    "review_containers = soup.find_all('article', 'ReviewCard')\n",
    "reviews = []\n",
    "for container in review_containers:\n",
    "    review_text = container.find('section', 'ReviewText').text.strip()\n",
    "    reviews.append(review_text)"
   ]
  },
  {
   "cell_type": "code",
   "execution_count": null,
   "id": "6fb96d70",
   "metadata": {},
   "outputs": [],
   "source": [
    "print(reviews[0])"
   ]
  },
  {
   "cell_type": "code",
   "execution_count": null,
   "id": "2b72b855",
   "metadata": {},
   "outputs": [],
   "source": [
    "rating = soup.find('div', 'RatingStatistics__column')[\"aria-label\"][18:22]"
   ]
  },
  {
   "cell_type": "code",
   "execution_count": null,
   "id": "1724dee6",
   "metadata": {},
   "outputs": [],
   "source": [
    "print(rating)"
   ]
  },
  {
   "cell_type": "code",
   "execution_count": null,
   "id": "d2f2acbb",
   "metadata": {},
   "outputs": [],
   "source": [
    "book_title = soup.select('h1', class_='Text Text__Title1')[0].text"
   ]
  },
  {
   "cell_type": "code",
   "execution_count": null,
   "id": "607331f7",
   "metadata": {},
   "outputs": [],
   "source": [
    "print(book_title)"
   ]
  },
  {
   "cell_type": "code",
   "execution_count": null,
   "id": "024016af",
   "metadata": {},
   "outputs": [],
   "source": [
    "book_dict = {\n",
    "    'title': book_title,\n",
    "    'rating': rating\n",
    "}"
   ]
  },
  {
   "cell_type": "code",
   "execution_count": null,
   "id": "ea5a0f2a",
   "metadata": {},
   "outputs": [],
   "source": [
    "reviews_titles = [f'Review {str(num)}' for num in range(1,31)]"
   ]
  },
  {
   "cell_type": "code",
   "execution_count": null,
   "id": "de4b8cde",
   "metadata": {},
   "outputs": [],
   "source": [
    "reviews_titles"
   ]
  },
  {
   "cell_type": "code",
   "execution_count": null,
   "id": "84ea23a9",
   "metadata": {},
   "outputs": [],
   "source": [
    "for heading, review in zip(reviews_titles, reviews):\n",
    "    book_dict[heading] = review"
   ]
  },
  {
   "cell_type": "code",
   "execution_count": null,
   "id": "53f564ca",
   "metadata": {},
   "outputs": [],
   "source": [
    "print(book_dict['Review 5'])"
   ]
  },
  {
   "cell_type": "code",
   "execution_count": null,
   "id": "8a7f6f04",
   "metadata": {},
   "outputs": [],
   "source": [
    "books_df = pd.DataFrame(book_dict, index=[0])"
   ]
  },
  {
   "cell_type": "code",
   "execution_count": null,
   "id": "cb488607",
   "metadata": {},
   "outputs": [],
   "source": [
    "books_df.info()"
   ]
  },
  {
   "cell_type": "markdown",
   "id": "da2d3ede",
   "metadata": {},
   "source": [
    "# Making functions"
   ]
  },
  {
   "cell_type": "markdown",
   "id": "5843ce12",
   "metadata": {},
   "source": [
    "## Retrieving book urls"
   ]
  },
  {
   "cell_type": "code",
   "execution_count": null,
   "id": "ce370e13",
   "metadata": {},
   "outputs": [],
   "source": [
    "def retrieve_books(num_books):\n",
    "    page=1\n",
    "    num_pages = math.floor(num_books/50)\n",
    "    book_urls = []\n",
    "    while page <= num_pages:\n",
    "        url=\"https://www.goodreads.com/shelf/show/fiction?page=\" + str(page)\n",
    "        response=requests.get(url)\n",
    "        soup = BeautifulSoup(response.content, \"html.parser\")\n",
    "        for book in soup.find_all('a', class_='bookTitle'):\n",
    "            book_urls.append('https://www.goodreads.com' + book['href'])\n",
    "        page+=1\n",
    "    if num_books%50:\n",
    "        url=\"https://www.goodreads.com/shelf/show/fiction?page=\" + str(page)\n",
    "        response=requests.get(url)\n",
    "        soup = BeautifulSoup(response.content, \"html.parser\")\n",
    "        for book in soup.find_all('a', class_='bookTitle', limit=(num_books%50)):\n",
    "            book_urls.append('https://www.goodreads.com' + book['href'])\n",
    "    return book_urls"
   ]
  },
  {
   "cell_type": "code",
   "execution_count": null,
   "id": "549b956f",
   "metadata": {},
   "outputs": [],
   "source": [
    "len(book_urls)"
   ]
  },
  {
   "cell_type": "markdown",
   "id": "82f8aa70",
   "metadata": {},
   "source": [
    "## Retrieving top 30 reviews for each book and storing in dataframe"
   ]
  },
  {
   "cell_type": "code",
   "execution_count": null,
   "id": "56a3a325",
   "metadata": {},
   "outputs": [],
   "source": [
    "def retrieve_data_for_book(book_url):\n",
    "    book_dict = {}\n",
    "    response=requests.get(book_url)\n",
    "    soup = BeautifulSoup(response.content, \"html.parser\")\n",
    "    review_containers = soup.find_all('article', 'ReviewCard')\n",
    "    reviews = []\n",
    "    for container in review_containers:\n",
    "        review_text = container.find('section', 'ReviewText').text.strip()\n",
    "        reviews.append(review_text)\n",
    "    book_dict['rating'] = float(soup.find('div', class_='RatingStatistics__rating').text)\n",
    "    book_dict['book_title'] = soup.select('h1', class_='Text Text__Title1')[0].text\n",
    "    reviews_titles = [f'Review {str(num)}' for num in range(1,len(reviews)+1)]\n",
    "    for heading, review in zip(reviews_titles, reviews):\n",
    "        book_dict[heading] = review\n",
    "    return book_dict"
   ]
  },
  {
   "cell_type": "code",
   "execution_count": null,
   "id": "4677e098",
   "metadata": {},
   "outputs": [],
   "source": [
    "def retrieve_data_for_all_books_in_df(book_urls):\n",
    "    initial = True\n",
    "    book_dicts=[]\n",
    "    for book_url in book_urls:\n",
    "        book_dicts.append(retrieve_data_for_book(book_url))\n",
    "    books_df = pd.DataFrame.from_dict(book_dicts)\n",
    "    return books_df"
   ]
  },
  {
   "cell_type": "code",
   "execution_count": null,
   "id": "3a96f767",
   "metadata": {},
   "outputs": [],
   "source": [
    "books_df = retrieve_data_for_all_books_in_df(book_urls[:5])"
   ]
  },
  {
   "cell_type": "markdown",
   "id": "a7cc2be0",
   "metadata": {},
   "source": [
    "## Testing Stuff"
   ]
  },
  {
   "cell_type": "code",
   "execution_count": null,
   "id": "24a5c78e",
   "metadata": {},
   "outputs": [],
   "source": [
    "book_urls[4]"
   ]
  },
  {
   "cell_type": "code",
   "execution_count": null,
   "id": "31505e70",
   "metadata": {},
   "outputs": [],
   "source": [
    "response=requests.get(book_urls[4])\n",
    "soup = BeautifulSoup(response.content, \"html.parser\")\n",
    "book_title = soup.select('h1', class_='Text Text__Title1')[0].text\n",
    "book_title"
   ]
  },
  {
   "cell_type": "code",
   "execution_count": null,
   "id": "8d9f7d38",
   "metadata": {},
   "outputs": [],
   "source": [
    "response=requests.get(book_urls[2])\n",
    "book_rating = float(soup.find('div', class_='RatingStatistics__rating').text)\n",
    "book_rating"
   ]
  }
 ],
 "metadata": {
  "kernelspec": {
   "display_name": "Python 3 (ipykernel)",
   "language": "python",
   "name": "python3"
  },
  "language_info": {
   "codemirror_mode": {
    "name": "ipython",
    "version": 3
   },
   "file_extension": ".py",
   "mimetype": "text/x-python",
   "name": "python",
   "nbconvert_exporter": "python",
   "pygments_lexer": "ipython3",
   "version": "3.10.6"
  },
  "toc": {
   "base_numbering": 1,
   "nav_menu": {},
   "number_sections": true,
   "sideBar": true,
   "skip_h1_title": false,
   "title_cell": "Table of Contents",
   "title_sidebar": "Contents",
   "toc_cell": false,
   "toc_position": {},
   "toc_section_display": true,
   "toc_window_display": false
  }
 },
 "nbformat": 4,
 "nbformat_minor": 5
}
