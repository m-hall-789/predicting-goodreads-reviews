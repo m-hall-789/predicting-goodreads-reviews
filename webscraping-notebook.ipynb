{
 "cells": [
  {
   "cell_type": "markdown",
   "id": "a39260c1",
   "metadata": {},
   "source": [
    "# Webscraping Notebook"
   ]
  },
  {
   "cell_type": "markdown",
   "id": "12597b03",
   "metadata": {},
   "source": [
    "## Installs"
   ]
  },
  {
   "cell_type": "code",
   "execution_count": null,
   "id": "990e8a56",
   "metadata": {},
   "outputs": [],
   "source": [
    "%load_ext autoreload\n",
    "%autoreload 2"
   ]
  },
  {
   "cell_type": "code",
   "execution_count": null,
   "id": "98b8d529",
   "metadata": {},
   "outputs": [],
   "source": [
    "import requests\n",
    "from bs4 import BeautifulSoup\n",
    "import math\n",
    "import numpy as np\n",
    "import pandas as pd"
   ]
  },
  {
   "cell_type": "markdown",
   "id": "c35ff105",
   "metadata": {
    "heading_collapsed": true
   },
   "source": [
    "## Scrape list of books and urls "
   ]
  },
  {
   "cell_type": "code",
   "execution_count": null,
   "id": "d8705193",
   "metadata": {
    "hidden": true
   },
   "outputs": [],
   "source": [
    "page=\"1\"\n",
    "url=\"https://www.goodreads.com/shelf/show/fiction?page=\" + page\n",
    "url"
   ]
  },
  {
   "cell_type": "code",
   "execution_count": null,
   "id": "43d1af4b",
   "metadata": {
    "hidden": true
   },
   "outputs": [],
   "source": [
    "response=requests.get(url)\n",
    "soup = BeautifulSoup(response.content, \"html.parser\")"
   ]
  },
  {
   "cell_type": "code",
   "execution_count": null,
   "id": "2f7e9a80",
   "metadata": {
    "hidden": true
   },
   "outputs": [],
   "source": [
    "book_titles = [book.text.strip() for book in soup.find_all('a', class_='bookTitle')]"
   ]
  },
  {
   "cell_type": "code",
   "execution_count": null,
   "id": "d95306ec",
   "metadata": {
    "hidden": true
   },
   "outputs": [],
   "source": [
    "len(book_titles)"
   ]
  },
  {
   "cell_type": "code",
   "execution_count": null,
   "id": "274b689a",
   "metadata": {
    "hidden": true
   },
   "outputs": [],
   "source": [
    "book_titles[1]"
   ]
  },
  {
   "cell_type": "code",
   "execution_count": null,
   "id": "76b45668",
   "metadata": {
    "hidden": true
   },
   "outputs": [],
   "source": [
    "tkamb_title = book_titles[1]"
   ]
  },
  {
   "cell_type": "code",
   "execution_count": null,
   "id": "03cbcf31",
   "metadata": {
    "hidden": true
   },
   "outputs": [],
   "source": [
    "book_urls = ['https://www.goodreads.com' + book['href'] for book in soup.find_all('a', class_='bookTitle')]"
   ]
  },
  {
   "cell_type": "code",
   "execution_count": null,
   "id": "f64d6cd3",
   "metadata": {
    "hidden": true
   },
   "outputs": [],
   "source": [
    "len(books)"
   ]
  },
  {
   "cell_type": "code",
   "execution_count": null,
   "id": "549b150e",
   "metadata": {
    "hidden": true,
    "scrolled": true
   },
   "outputs": [],
   "source": [
    "books[1]"
   ]
  },
  {
   "cell_type": "markdown",
   "id": "b3dfc954",
   "metadata": {},
   "source": [
    "## Get top reviews for each book"
   ]
  },
  {
   "cell_type": "code",
   "execution_count": null,
   "id": "aa096246",
   "metadata": {},
   "outputs": [],
   "source": [
    "response=requests.get(books[1])\n",
    "soup = BeautifulSoup(response.content, \"html.parser\")"
   ]
  },
  {
   "cell_type": "code",
   "execution_count": null,
   "id": "830c6b7a",
   "metadata": {},
   "outputs": [],
   "source": [
    "type(soup)"
   ]
  },
  {
   "cell_type": "code",
   "execution_count": null,
   "id": "5f0dcd93",
   "metadata": {},
   "outputs": [],
   "source": [
    "len(soup.find_all('section', 'ReviewText'))"
   ]
  },
  {
   "cell_type": "code",
   "execution_count": null,
   "id": "f974065d",
   "metadata": {},
   "outputs": [],
   "source": [
    "len(soup.find_all('article', 'ReviewCard'))"
   ]
  },
  {
   "cell_type": "code",
   "execution_count": null,
   "id": "3f9193c6",
   "metadata": {},
   "outputs": [],
   "source": [
    "review_containers = soup.find_all('article', 'ReviewCard')\n",
    "reviews = []\n",
    "for container in review_containers:\n",
    "    review_text = container.find('section', 'ReviewText').text.strip()\n",
    "    reviews.append(review_text)"
   ]
  },
  {
   "cell_type": "code",
   "execution_count": null,
   "id": "388ba373",
   "metadata": {},
   "outputs": [],
   "source": [
    "len(reviews)"
   ]
  },
  {
   "cell_type": "code",
   "execution_count": null,
   "id": "16031d21",
   "metadata": {},
   "outputs": [],
   "source": [
    "type(reviews[1])"
   ]
  },
  {
   "cell_type": "code",
   "execution_count": null,
   "id": "b79ffd7e",
   "metadata": {
    "scrolled": true
   },
   "outputs": [],
   "source": [
    "reviews[0]"
   ]
  },
  {
   "cell_type": "code",
   "execution_count": null,
   "id": "1a2bdcc7",
   "metadata": {},
   "outputs": [],
   "source": [
    "tkamb_reviews = reviews.copy()"
   ]
  },
  {
   "cell_type": "markdown",
   "id": "dd0359fa",
   "metadata": {},
   "source": [
    "## Get the average rating and title"
   ]
  },
  {
   "cell_type": "code",
   "execution_count": null,
   "id": "69d75418",
   "metadata": {},
   "outputs": [],
   "source": [
    "rating = soup.find('div', 'RatingStatistics__column')[\"aria-label\"]"
   ]
  },
  {
   "cell_type": "code",
   "execution_count": null,
   "id": "72280022",
   "metadata": {},
   "outputs": [],
   "source": [
    "rating"
   ]
  },
  {
   "cell_type": "code",
   "execution_count": null,
   "id": "f1bb6418",
   "metadata": {},
   "outputs": [],
   "source": [
    "float(rating[18:22])"
   ]
  },
  {
   "cell_type": "code",
   "execution_count": null,
   "id": "7ea3e789",
   "metadata": {},
   "outputs": [],
   "source": [
    "book_rating = float(rating[18:22])"
   ]
  },
  {
   "cell_type": "code",
   "execution_count": null,
   "id": "4bff167c",
   "metadata": {},
   "outputs": [],
   "source": [
    "book_title = soup.select('h1', class_='Text Text__Title1')[0].text"
   ]
  },
  {
   "cell_type": "markdown",
   "id": "15692cf2",
   "metadata": {
    "heading_collapsed": true
   },
   "source": [
    "## Saving title, rating, and 30 reviews together in a class"
   ]
  },
  {
   "cell_type": "code",
   "execution_count": null,
   "id": "7fed138c",
   "metadata": {
    "hidden": true
   },
   "outputs": [],
   "source": [
    "class BookInfo:\n",
    "    def __init__(self, rating, reviews, title):\n",
    "        self.title = title\n",
    "        self.rating = rating\n",
    "        self.reviews = reviews\n",
    "    \n",
    "    def get_title(self):\n",
    "        return self.title\n",
    "    def get_rating(self):\n",
    "        return self.rating\n",
    "    def get_reviews(self):\n",
    "        return self.reviews"
   ]
  },
  {
   "cell_type": "code",
   "execution_count": null,
   "id": "a1798f12",
   "metadata": {
    "hidden": true
   },
   "outputs": [],
   "source": [
    "book1 = BookInfo(rating=tkamb_rating, reviews=tkamb_reviews, title=tkamb_title)"
   ]
  },
  {
   "cell_type": "code",
   "execution_count": null,
   "id": "e78aed35",
   "metadata": {
    "hidden": true,
    "scrolled": true
   },
   "outputs": [],
   "source": [
    "book1.get_rating()"
   ]
  },
  {
   "cell_type": "markdown",
   "id": "7b2f376b",
   "metadata": {
    "heading_collapsed": true
   },
   "source": [
    "## Saving data into dataframe"
   ]
  },
  {
   "cell_type": "code",
   "execution_count": null,
   "id": "0282cbc2",
   "metadata": {
    "hidden": true
   },
   "outputs": [],
   "source": [
    "print(book_urls[0])"
   ]
  },
  {
   "cell_type": "code",
   "execution_count": null,
   "id": "fa9da10f",
   "metadata": {
    "hidden": true
   },
   "outputs": [],
   "source": [
    "response=requests.get(book_urls[0])\n",
    "soup = BeautifulSoup(response.content, \"html.parser\")"
   ]
  },
  {
   "cell_type": "code",
   "execution_count": null,
   "id": "2273fe0a",
   "metadata": {
    "hidden": true
   },
   "outputs": [],
   "source": [
    "review_containers = soup.find_all('article', 'ReviewCard')\n",
    "reviews = []\n",
    "for container in review_containers:\n",
    "    review_text = container.find('section', 'ReviewText').text.strip()\n",
    "    reviews.append(review_text)"
   ]
  },
  {
   "cell_type": "code",
   "execution_count": null,
   "id": "2bfe7007",
   "metadata": {
    "hidden": true
   },
   "outputs": [],
   "source": [
    "print(reviews[0])"
   ]
  },
  {
   "cell_type": "code",
   "execution_count": null,
   "id": "02e3cc0b",
   "metadata": {
    "hidden": true
   },
   "outputs": [],
   "source": [
    "rating = soup.find('div', 'RatingStatistics__column')[\"aria-label\"][18:22]"
   ]
  },
  {
   "cell_type": "code",
   "execution_count": null,
   "id": "1225fcef",
   "metadata": {
    "hidden": true
   },
   "outputs": [],
   "source": [
    "print(rating)"
   ]
  },
  {
   "cell_type": "code",
   "execution_count": null,
   "id": "7feb5a01",
   "metadata": {
    "hidden": true
   },
   "outputs": [],
   "source": [
    "book_title = soup.select('h1', class_='Text Text__Title1')[0].text"
   ]
  },
  {
   "cell_type": "code",
   "execution_count": null,
   "id": "1ae4eed1",
   "metadata": {
    "hidden": true
   },
   "outputs": [],
   "source": [
    "print(book_title)"
   ]
  },
  {
   "cell_type": "code",
   "execution_count": null,
   "id": "c573f14d",
   "metadata": {
    "hidden": true
   },
   "outputs": [],
   "source": [
    "book_dict = {\n",
    "    'title': book_title,\n",
    "    'rating': rating\n",
    "}"
   ]
  },
  {
   "cell_type": "code",
   "execution_count": null,
   "id": "71f67b8d",
   "metadata": {
    "hidden": true
   },
   "outputs": [],
   "source": [
    "reviews_titles = [f'Review {str(num)}' for num in range(1,31)]"
   ]
  },
  {
   "cell_type": "code",
   "execution_count": null,
   "id": "f76ae7a6",
   "metadata": {
    "hidden": true
   },
   "outputs": [],
   "source": [
    "reviews_titles"
   ]
  },
  {
   "cell_type": "code",
   "execution_count": null,
   "id": "63358c5a",
   "metadata": {
    "hidden": true
   },
   "outputs": [],
   "source": [
    "for heading, review in zip(reviews_titles, reviews):\n",
    "    book_dict[heading] = review"
   ]
  },
  {
   "cell_type": "code",
   "execution_count": null,
   "id": "346a5ee0",
   "metadata": {
    "hidden": true
   },
   "outputs": [],
   "source": [
    "print(book_dict['Review 5'])"
   ]
  },
  {
   "cell_type": "code",
   "execution_count": null,
   "id": "4d979bef",
   "metadata": {
    "hidden": true
   },
   "outputs": [],
   "source": [
    "books_df = pd.DataFrame(book_dict, index=[0])"
   ]
  },
  {
   "cell_type": "code",
   "execution_count": null,
   "id": "f1bf651b",
   "metadata": {
    "hidden": true
   },
   "outputs": [],
   "source": [
    "books_df.info()"
   ]
  },
  {
   "cell_type": "markdown",
   "id": "0f7b6c25",
   "metadata": {},
   "source": [
    "# Making functions"
   ]
  },
  {
   "cell_type": "markdown",
   "id": "fd4ea2be",
   "metadata": {},
   "source": [
    "## Retrieving book urls"
   ]
  },
  {
   "cell_type": "code",
   "execution_count": null,
   "id": "61795233",
   "metadata": {},
   "outputs": [],
   "source": [
    "def retrieve_books(num_books):\n",
    "    page=1\n",
    "    num_pages = math.floor(num_books/50)\n",
    "    book_urls = []\n",
    "    while page <= num_pages:\n",
    "        url=\"https://www.goodreads.com/shelf/show/fiction?page=\" + str(page)\n",
    "        response=requests.get(url)\n",
    "        soup = BeautifulSoup(response.content, \"html.parser\")\n",
    "        for book in soup.find_all('a', class_='bookTitle'):\n",
    "            book_urls.append('https://www.goodreads.com' + book['href'])\n",
    "        page+=1\n",
    "    if num_books%50:\n",
    "        url=\"https://www.goodreads.com/shelf/show/fiction?page=\" + str(page)\n",
    "        response=requests.get(url)\n",
    "        soup = BeautifulSoup(response.content, \"html.parser\")\n",
    "        for book in soup.find_all('a', class_='bookTitle', limit=(num_books%50)):\n",
    "            book_urls.append('https://www.goodreads.com' + book['href'])\n",
    "    return book_urls"
   ]
  },
  {
   "cell_type": "code",
   "execution_count": null,
   "id": "98ea1397",
   "metadata": {},
   "outputs": [],
   "source": [
    "len(book_urls)"
   ]
  },
  {
   "cell_type": "markdown",
   "id": "700dbc1e",
   "metadata": {},
   "source": [
    "## Retrieving top 30 reviews for each book and storing in dataframe"
   ]
  },
  {
   "cell_type": "code",
   "execution_count": null,
   "id": "763dbbb0",
   "metadata": {},
   "outputs": [],
   "source": [
    "def retrieve_data_for_book(book_url):\n",
    "    book_dict = {}\n",
    "    response=requests.get(book_url)\n",
    "    soup = BeautifulSoup(response.content, \"html.parser\")\n",
    "    review_containers = soup.find_all('article', 'ReviewCard')\n",
    "    reviews = []\n",
    "    for container in review_containers:\n",
    "        review_text = container.find('section', 'ReviewText').text.strip()\n",
    "        reviews.append(review_text)\n",
    "    book_dict['rating'] = float(soup.find('div', class_='RatingStatistics__rating').text)\n",
    "    book_dict['book_title'] = soup.select('h1', class_='Text Text__Title1')[0].text\n",
    "    reviews_titles = [f'Review {str(num)}' for num in range(1,len(reviews)+1)]\n",
    "    for heading, review in zip(reviews_titles, reviews):\n",
    "        book_dict[heading] = review\n",
    "    return book_dict"
   ]
  },
  {
   "cell_type": "code",
   "execution_count": null,
   "id": "846f18f1",
   "metadata": {},
   "outputs": [],
   "source": [
    "def retrieve_data_for_all_books_in_df(book_urls):\n",
    "    initial = True\n",
    "    book_dicts=[]\n",
    "    for book_url in book_urls:\n",
    "        book_dicts.append(retrieve_data_for_book(book_url))\n",
    "    books_df = pd.DataFrame.from_dict(book_dicts)\n",
    "    return books_df"
   ]
  },
  {
   "cell_type": "code",
   "execution_count": null,
   "id": "66453556",
   "metadata": {},
   "outputs": [],
   "source": [
    "books_df = retrieve_data_for_all_books_in_df(book_urls[:5])"
   ]
  },
  {
   "cell_type": "markdown",
   "id": "5426abbb",
   "metadata": {},
   "source": [
    "## Testing Stuff"
   ]
  },
  {
   "cell_type": "code",
   "execution_count": null,
   "id": "31df54b3",
   "metadata": {},
   "outputs": [],
   "source": [
    "book_urls[4]"
   ]
  },
  {
   "cell_type": "code",
   "execution_count": null,
   "id": "d66de054",
   "metadata": {},
   "outputs": [],
   "source": [
    "response=requests.get(book_urls[4])\n",
    "soup = BeautifulSoup(response.content, \"html.parser\")\n",
    "book_title = soup.select('h1', class_='Text Text__Title1')[0].text\n",
    "book_title"
   ]
  },
  {
   "cell_type": "code",
   "execution_count": null,
   "id": "a1980c38",
   "metadata": {},
   "outputs": [],
   "source": [
    "response=requests.get(book_urls[2])\n",
    "book_rating = float(soup.find('div', class_='RatingStatistics__rating').text)\n",
    "book_rating"
   ]
  }
 ],
 "metadata": {
  "kernelspec": {
   "display_name": "Python 3 (ipykernel)",
   "language": "python",
   "name": "python3"
  },
  "language_info": {
   "codemirror_mode": {
    "name": "ipython",
    "version": 3
   },
   "file_extension": ".py",
   "mimetype": "text/x-python",
   "name": "python",
   "nbconvert_exporter": "python",
   "pygments_lexer": "ipython3",
   "version": "3.10.6"
  },
  "toc": {
   "base_numbering": 1,
   "nav_menu": {},
   "number_sections": true,
   "sideBar": true,
   "skip_h1_title": false,
   "title_cell": "Table of Contents",
   "title_sidebar": "Contents",
   "toc_cell": false,
   "toc_position": {},
   "toc_section_display": true,
   "toc_window_display": false
  }
 },
 "nbformat": 4,
 "nbformat_minor": 5
}
